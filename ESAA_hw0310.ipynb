{
  "nbformat": 4,
  "nbformat_minor": 0,
  "metadata": {
    "colab": {
      "provenance": [],
      "authorship_tag": "ABX9TyPaDEc65adRHg+XLK+9os0j",
      "include_colab_link": true
    },
    "kernelspec": {
      "name": "python3",
      "display_name": "Python 3"
    },
    "language_info": {
      "name": "python"
    }
  },
  "cells": [
    {
      "cell_type": "markdown",
      "metadata": {
        "id": "view-in-github",
        "colab_type": "text"
      },
      "source": [
        "<a href=\"https://colab.research.google.com/github/hyehyuni/essa/blob/main/ESAA_hw0310.ipynb\" target=\"_parent\"><img src=\"https://colab.research.google.com/assets/colab-badge.svg\" alt=\"Open In Colab\"/></a>"
      ]
    },
    {
      "cell_type": "markdown",
      "source": [
        "# **[개념 정리]**\n",
        "**3/13 과제 - 파이썬 머신러닝 완벽가이드 pg.1~38 부분**\n",
        "\n",
        "---\n",
        "\n",
        "\n",
        "# **Numpy**\n",
        "파이썬에서 선형대수 기반의 프로그램을 쉽게 만들 수 있도록 지원하는 대표적인 패키지\n",
        "- 루프를 사용하지 않고 대량의 데이터 배열 연산을 가능하게 하므로 빠른 배열 연산 속도를 보인다. \n",
        "\n",
        "\n",
        "---\n",
        "\n",
        "\n",
        "# 넘파이 ndarray 개요\n",
        "* np.array() : 변환을 원하는객체를 인자로 입력하면 ndarray를 반환한다.\n",
        "* ndarray.shape : ndarray의 차원과 크기를 튜플 형태로 나타냄 \n",
        "* ndarray.ndim : ndarray의 차원을 확인"
      ],
      "metadata": {
        "id": "s8c5rA0uVnKY"
      }
    },
    {
      "cell_type": "code",
      "source": [
        "# 넘파이 모듈 임포트하기 \n",
        "import numpy as np\n",
        "\n",
        "# np.array 사용하기 \n",
        "array1=np.array([1,2,3])\n",
        "print('array1 type:', type(array1))\n",
        "print('array1 array 형태:', array1.shape)\n",
        "\n",
        "array2=np.array([[1,2,3],\n",
        "                 [2,3,4]])\n",
        "print('array2 type:', type(array2))\n",
        "print('array2 array 형태:', array2.shape)\n",
        "\n",
        "array3=np.array([[1,2,3]])\n",
        "print('array3 type:', type(array3))\n",
        "print('array3 array 형태:', array3.shape)\n",
        "\n",
        "# array 차원 확인하기 \n",
        "print('array1: {:0}차원, array2: {:1}차원,  array3: {:2}차원'.format(array1.ndim, array2.ndim, array3.ndim))"
      ],
      "metadata": {
        "colab": {
          "base_uri": "https://localhost:8080/"
        },
        "id": "5WWIJRPJZjdf",
        "outputId": "da9daa4e-c030-4b83-c10f-f1534b1d6f58"
      },
      "execution_count": 4,
      "outputs": [
        {
          "output_type": "stream",
          "name": "stdout",
          "text": [
            "array1 type: <class 'numpy.ndarray'>\n",
            "array1 array 형태: (3,)\n",
            "array2 type: <class 'numpy.ndarray'>\n",
            "array2 array 형태: (2, 3)\n",
            "array3 type: <class 'numpy.ndarray'>\n",
            "array3 array 형태: (1, 3)\n",
            "array1: 1차원, array2: 2차원,  array3:  2차원\n"
          ]
        }
      ]
    },
    {
      "cell_type": "markdown",
      "source": [
        "# ndarray의 데이터 타입 \n",
        "ndarray 내의 데이터값은 숫자값, 문자열 값, 불 값 등이 모두 가능하다.\n",
        "* ndarray내의 데이터 타입은 그 연산의 특성상 같은 데이터 타입만 가능하다. (한개의 객체에 하나의 타입만)\n",
        "* ndarray내의 데이터 타입은 dtype 속성으로 확인 가능\n",
        "* 만약, 서로 다른 데이터 유형이 섞여 있는 리스트를 ndarray로 변경하면, 데이터 크기가 더 큰 데이터 타입으로 형 변환을 일괄 적용\n",
        "* astype : ndarray 내 데이터 값의 타입 변경 "
      ],
      "metadata": {
        "id": "rGu9EfAUYsSA"
      }
    },
    {
      "cell_type": "code",
      "source": [
        "list1=[1,2,3]\n",
        "print(type(list1))\n",
        "array1=np.array(list1)\n",
        "print(type(array1))\n",
        "print(array1, array1.dtype)\n",
        "\n",
        "list2=[1,2,'test']\n",
        "array2=np.array(list2) # int가 유니코드로 변형\n",
        "print(array2, array2.dtype)\n",
        "\n",
        "list3=[1,2,3.0]\n",
        "array3=np.array(list3) # int가 float으로 변형 \n",
        "print(array3, array3.dtype)\n",
        "\n",
        "# astype 메소드 사용하기\n",
        "array_int=np.array([1,2,3])\n",
        "array_float=array_int.astype('float64')\n",
        "print(array_float, array_float.dtype)\n",
        "array_int1=array_float.astype('int32')\n",
        "print(array_int1, array_int1.dtype)\n",
        "array_float1=np.array([1.1,2.1,3.1])\n",
        "array_int2=array_float1.astype('int32')\n",
        "print(array_int2, array_int2.dtype)"
      ],
      "metadata": {
        "colab": {
          "base_uri": "https://localhost:8080/"
        },
        "id": "zrlqX7ZIVrSi",
        "outputId": "ee24b5f9-2a60-40e4-eb7f-70f184f7317e"
      },
      "execution_count": 12,
      "outputs": [
        {
          "output_type": "stream",
          "name": "stdout",
          "text": [
            "<class 'list'>\n",
            "<class 'numpy.ndarray'>\n",
            "[1 2 3] int64\n",
            "['1' '2' 'test'] <U21\n",
            "[1. 2. 3.] float64\n",
            "[1. 2. 3.] float64\n",
            "[1 2 3] int32\n",
            "[1 2 3] int32\n"
          ]
        }
      ]
    },
    {
      "cell_type": "markdown",
      "source": [
        "# ndarray를 편리하게 생성하기 \n",
        "1.   arange()\n",
        "2. zeros()\n",
        "3. ones()\n"
      ],
      "metadata": {
        "id": "uljVwVbvcf4s"
      }
    },
    {
      "cell_type": "code",
      "source": [
        "sequence_array=np.arange(10)\n",
        "print(sequence_array)\n",
        "print(sequence_array.dtype, sequence_array.shape)\n",
        "\n",
        "zero_array=np.zeros((3,2), dtype='int32')\n",
        "print(zero_array)\n",
        "print(zero_array.dtype, zero_array.shape)\n",
        "\n",
        "one_array=np.ones((3,2))\n",
        "print(one_array)\n",
        "print(one_array.dtype, one_array.shape)"
      ],
      "metadata": {
        "colab": {
          "base_uri": "https://localhost:8080/"
        },
        "id": "sKGbSimWflNT",
        "outputId": "134fb031-e2bb-423a-920c-5a6d975b01a4"
      },
      "execution_count": 15,
      "outputs": [
        {
          "output_type": "stream",
          "name": "stdout",
          "text": [
            "[[0 0]\n",
            " [0 0]\n",
            " [0 0]]\n",
            "int32 (3, 2)\n",
            "[[1. 1.]\n",
            " [1. 1.]\n",
            " [1. 1.]]\n",
            "float64 (3, 2)\n"
          ]
        }
      ]
    },
    {
      "cell_type": "markdown",
      "source": [
        "* reshape() : ndarray의 차원과 크기를 변경\n",
        "\n",
        "\n",
        ">  -1을 인자로 사용하면 shape를 자동으로 새롭게 생성해 변환한다.\n",
        "\n",
        "\n",
        "> reshape(-1,1)과 같은 형태로 자주 사용되는데, 이는 원본 ndarray가 어떤 형태라도 2차원이고, 여러개의 로우를 가지되 반드시 한개의 칼럼을 가진 ndarray로 변환됨을 보장한다. \n",
        "\n",
        "\n",
        "\n"
      ],
      "metadata": {
        "id": "F3bMgoGRgE6s"
      }
    },
    {
      "cell_type": "code",
      "source": [
        "array1=np.arange(10)\n",
        "print('array1:\\n', array1)\n",
        "array2=array1.reshape(2,5)\n",
        "print('array2:\\n', array2)\n",
        "array3=array1.reshape(5,2)\n",
        "print('array3:\\n', array3)\n",
        "\n",
        "# 지정된 사이즈로 변경이 불가능하면 오류 발생\n",
        "# array1.reshape(4,3)\n",
        "\n",
        "array1=np.arange(10)\n",
        "print(array1)\n",
        "array2=array1.reshape(-1, 5)\n",
        "print('array2 shape:', array2.shape)\n",
        "array3=array1.reshape(5,-1)\n",
        "print('array3.shape:', array3.shape)\n",
        "\n",
        "# 변경할 수 없는 크기인 경우 에러 발생 \n",
        "# array1=np.arnage(10)\n",
        "# array4=array1.reshape(-1,4)\n",
        "\n",
        "# tolist(): 리스트 자료형으로 변환 \n",
        "array1=np.arange(8)\n",
        "array3d=array1.reshape((2,2,2))\n",
        "print('array3d:\\n', array3d.tolist()) \n",
        "\n",
        "# 3차원 ndarray를 2차원 ndarray로 변환 \n",
        "array5=array3d.reshape(-1,1)\n",
        "print('array3:\\n', array5.tolist())\n",
        "print('array5 shape:', array5.shape)\n",
        "\n",
        "# 1차원 ndarray를 2차원 ndarray로 변환 \n",
        "array6=array1.reshape(-1,1)\n",
        "print('array6:\\n', array6.tolist())\n",
        "print('array6 shape:', array6.shape)"
      ],
      "metadata": {
        "colab": {
          "base_uri": "https://localhost:8080/"
        },
        "id": "Ys4C9_hdgh2C",
        "outputId": "9d85bf6b-3de7-4160-933c-72e2d6948235"
      },
      "execution_count": 24,
      "outputs": [
        {
          "output_type": "stream",
          "name": "stdout",
          "text": [
            "array1:\n",
            " [0 1 2 3 4 5 6 7 8 9]\n",
            "array2:\n",
            " [[0 1 2 3 4]\n",
            " [5 6 7 8 9]]\n",
            "array3:\n",
            " [[0 1]\n",
            " [2 3]\n",
            " [4 5]\n",
            " [6 7]\n",
            " [8 9]]\n",
            "[0 1 2 3 4 5 6 7 8 9]\n",
            "array2 shape: (2, 5)\n",
            "array3.shape: (5, 2)\n",
            "array3d:\n",
            " [[[0, 1], [2, 3]], [[4, 5], [6, 7]]]\n",
            "array3:\n",
            " [[0], [1], [2], [3], [4], [5], [6], [7]]\n",
            "array5 shape: (8, 1)\n",
            "array6:\n",
            " [[0], [1], [2], [3], [4], [5], [6], [7]]\n",
            "array6 shape: (8, 1)\n"
          ]
        }
      ]
    },
    {
      "cell_type": "markdown",
      "source": [
        "# 넘파이 인덱싱 \n",
        "\n",
        "1.   특정 데이터만 추출 \n",
        "* 원하는 위치의 인덱스 값을 지정하면 해당 위치의 데이터가 반환된다.\n",
        "\n",
        "2.   슬라이싱 \n",
        "* 슬라이싱은 연속된 인덱스 상의 ndarray를 추출하는 방식, ':' 기호 사이에 시작 인덱스와 종료 인덱스를 표시하면 시작 인덱스에서 종료 인덱스 -1 위치에 있는 데이터를 반환 \n",
        "\n",
        "3. 팬시 인덱싱 \n",
        "* 일정한 인덱싱 집합을 리스트 또는 ndarray 형태로 지정해 해당 위치에 있는 데이터의 ndarray를 반환 \n",
        "4. 불린인덱싱 \n",
        "* 특정 조건에 해당하는지 여부인 T/F 값 인덱싱 집합을 기반으로 T에 해당하는 인덱스 위치에 있는 데이터의 ndarray를 반환 \n",
        "\n",
        "\n"
      ],
      "metadata": {
        "id": "WB18xfPKjKAU"
      }
    },
    {
      "cell_type": "markdown",
      "source": [
        "1) 단일 값 추출 \n",
        "*  axis 0은 로우 방향의 축을 의미하며, axis1은 칼럼 방향의 축을 의미한다. 축 기반의 연산에서 axis가 생략되어 있다면 axis0을 의미한다."
      ],
      "metadata": {
        "id": "aJ07kWmRkOsw"
      }
    },
    {
      "cell_type": "code",
      "source": [
        "array1=np.arange(start=1, stop=10)\n",
        "print('array1:', array1)\n",
        "value=array1[2]\n",
        "print('value:', value)\n",
        "print(type(value))\n",
        "print('맨 뒤의 값:', array1[-1], '맨 뒤에서 두 번째 값:', array1[-2])\n",
        "\n",
        "# 데이터 값 수정하기 \n",
        "array1[0]=9\n",
        "array1[8]=0\n",
        "print('array1:', array1)\n",
        "\n",
        "# 다차원에서 값 추출하기 \n",
        "array1d=np.arange(start=1, stop=10)\n",
        "array2d=array1d.reshape(3,3)\n",
        "print(array2d)\n",
        "\n",
        "print('(row=0,col=0) index 가리키는 값:', array2d[0,0])\n",
        "print('(row=0,col=1) index 가리키는 값:', array2d[0,1])\n",
        "print('(row=1,col=0) index 가리키는 값:', array2d[1,0])\n",
        "print('(row=2,col=2) index 가리키는 값:', array2d[2,2])"
      ],
      "metadata": {
        "colab": {
          "base_uri": "https://localhost:8080/"
        },
        "id": "Pin2Re4rkScK",
        "outputId": "627282db-e82e-4cad-897d-e2f6b04267a8"
      },
      "execution_count": 31,
      "outputs": [
        {
          "output_type": "stream",
          "name": "stdout",
          "text": [
            "array1: [1 2 3 4 5 6 7 8 9]\n",
            "value: 3\n",
            "<class 'numpy.int64'>\n",
            "맨 뒤의 값: 9 맨 뒤에서 두 번째 값: 8\n",
            "array1: [9 2 3 4 5 6 7 8 0]\n",
            "[[1 2 3]\n",
            " [4 5 6]\n",
            " [7 8 9]]\n",
            "(row=0,col=0) index 가리키는 값: 1\n",
            "(row=0,col=1) index 가리키는 값: 2\n",
            "(row=1,col=0) index 가리키는 값: 4\n",
            "(row=2,col=2) index 가리키는 값: 9\n"
          ]
        }
      ]
    },
    {
      "cell_type": "markdown",
      "source": [
        "2) 슬라이싱 \n",
        "* 슬라이싱 기호 ':', 시작 종료 인덱스는 생략이 가능하다"
      ],
      "metadata": {
        "id": "_2J88UdgvPxS"
      }
    },
    {
      "cell_type": "code",
      "source": [
        "array1=np.arange(start=1, stop=10)\n",
        "array3=array1[0:3]\n",
        "print(array3)\n",
        "print(type(array3))"
      ],
      "metadata": {
        "colab": {
          "base_uri": "https://localhost:8080/"
        },
        "id": "4SeauwjXvQlc",
        "outputId": "8eeb05d2-ecde-4980-b0f0-968f38d773b5"
      },
      "execution_count": 33,
      "outputs": [
        {
          "output_type": "stream",
          "name": "stdout",
          "text": [
            "[1 2 3]\n",
            "<class 'numpy.ndarray'>\n"
          ]
        }
      ]
    },
    {
      "cell_type": "code",
      "source": [
        "array1=np.arange(start=1, stop=10)\n",
        "array4=array1[:3]\n",
        "print(array4)\n",
        "array5=array1[3:]\n",
        "print(array5)\n",
        "array6=array1[:]\n",
        "print(array6)"
      ],
      "metadata": {
        "colab": {
          "base_uri": "https://localhost:8080/"
        },
        "id": "dxHqP8pdvmTs",
        "outputId": "61afd88f-2946-45ac-a0a0-aa6d73e09ec6"
      },
      "execution_count": 37,
      "outputs": [
        {
          "output_type": "stream",
          "name": "stdout",
          "text": [
            "[1 2 3]\n",
            "[4 5 6 7 8 9]\n",
            "[1 2 3 4 5 6 7 8 9]\n"
          ]
        }
      ]
    },
    {
      "cell_type": "code",
      "source": [
        "# 2차원에서 슬라이싱 \n",
        "array1d=np.arange(start=1, stop=10)\n",
        "array2d=array1d.reshape(3,3)\n",
        "print('array3d:\\n', array2d)\n",
        "\n",
        "print('array2d[0:2, 0:2]\\n', array2d[0:2, 0:2])\n",
        "print('array2d[1:3, 0:3]\\n', array2d[1:3, 0:3])\n",
        "print('array2d[1:3, :]\\n', array2d[1:3, :])\n",
        "print('array2d[:, :]\\n', array2d[:, :])\n",
        "print('array2d[:2, 1:]\\n', array2d[:2, 1:])\n",
        "print('array2d[:2, 0]\\n', array2d[:2, 0])\n",
        "\n",
        "print(array2d[0])\n",
        "print(array2d[1])\n",
        "print('array2d[0 shape:', array2d[0].shape, 'array2d[1 shape:', array2d[1].shape)\n"
      ],
      "metadata": {
        "colab": {
          "base_uri": "https://localhost:8080/"
        },
        "id": "mtSWafC7v5RV",
        "outputId": "bd79c335-c671-4782-a5a8-f0ff4fa2db2c"
      },
      "execution_count": 39,
      "outputs": [
        {
          "output_type": "stream",
          "name": "stdout",
          "text": [
            "array3d:\n",
            " [[1 2 3]\n",
            " [4 5 6]\n",
            " [7 8 9]]\n",
            "array2d[0:2, 0:2]\n",
            " [[1 2]\n",
            " [4 5]]\n",
            "array2d[1:3, 0:3]\n",
            " [[4 5 6]\n",
            " [7 8 9]]\n",
            "array2d[1:3, :]\n",
            " [[4 5 6]\n",
            " [7 8 9]]\n",
            "array2d[:, :]\n",
            " [[1 2 3]\n",
            " [4 5 6]\n",
            " [7 8 9]]\n",
            "array2d[:2, 1:]\n",
            " [[2 3]\n",
            " [5 6]]\n",
            "array2d[:2, 0]\n",
            " [1 4]\n",
            "[1 2 3]\n",
            "[4 5 6]\n",
            "array2d[0 shape: (3,) array2d[1 shape: (3,)\n"
          ]
        }
      ]
    },
    {
      "cell_type": "markdown",
      "source": [
        "3) 팬시 인덱싱 "
      ],
      "metadata": {
        "id": "K2Ws1VNkwsj2"
      }
    },
    {
      "cell_type": "code",
      "source": [
        "array1d=np.arange(start=1, stop=10)\n",
        "array2d=array1d.reshape(3,3)\n",
        "\n",
        "array3=array2d[[0,1],2]\n",
        "print('array2[[0,1],2]=>', array3.tolist())\n",
        "\n",
        "array4=array2d[[0,1], 0:2]\n",
        "print('array2d[[0,1],0:2]=>', array4.tolist())\n",
        "\n",
        "array5=array2d[[0,1]]\n",
        "print('array2d[[0,1]]=>', array5.tolist())"
      ],
      "metadata": {
        "colab": {
          "base_uri": "https://localhost:8080/"
        },
        "id": "UfKM9xGHwsWX",
        "outputId": "fefdfe4a-eaa5-4d7f-caf2-77125ba479b7"
      },
      "execution_count": 40,
      "outputs": [
        {
          "output_type": "stream",
          "name": "stdout",
          "text": [
            "array2[[0,1],2]=> [3, 6]\n",
            "array2d[[0,1],0:2]=> [[1, 2], [4, 5]]\n",
            "array2d[[0,1]]=> [[1, 2, 3], [4, 5, 6]]\n"
          ]
        }
      ]
    },
    {
      "cell_type": "markdown",
      "source": [
        "4) 불린 인덱싱 \n",
        "* step1 : array1d>5와 같이 ndarray의 필터링 조건을 []안에 기재 \n",
        "* step2: False 값은 무시하고 True 값에 해당하는 인덱스 값만 저장\n",
        "* step3: 저장된 인덱스 데이터 세트로 ndarray 조회"
      ],
      "metadata": {
        "id": "kO-V1W0qxdgA"
      }
    },
    {
      "cell_type": "code",
      "source": [
        "array1d=np.arange(start=1, stop=10)\n",
        "array3=array1d[array1d>5]\n",
        "print('array1d>5  불린 인덱싱 결과 값:', array3)\n",
        "\n",
        "array1>5 # True, False를 반환\n",
        "\n",
        "boolen_indexes=np.array([False, False, False, False, False,  True,  True,  True,  True])\n",
        "array3=array1d[boolen_indexes]\n",
        "print('불린 인덱스로 필터링한 결과: ', array3)\n",
        "\n",
        "indexes=np.array([5,6,7,8])\n",
        "array4=array1d[indexes]\n",
        "print('일반 인덱스로 필터링 결과:', array4)"
      ],
      "metadata": {
        "colab": {
          "base_uri": "https://localhost:8080/"
        },
        "id": "_uthHTLbwrz5",
        "outputId": "56534c9c-a755-4186-9c88-5803f0ba35fd"
      },
      "execution_count": 47,
      "outputs": [
        {
          "output_type": "stream",
          "name": "stdout",
          "text": [
            "array1d>5  불린 인덱싱 결과 값: [6 7 8 9]\n",
            "불린 인덱스로 필터링한 결과:  [6 7 8 9]\n",
            "일반 인덱스로 필터링 결과: [6 7 8 9]\n"
          ]
        }
      ]
    },
    {
      "cell_type": "markdown",
      "source": [
        "# 행렬의 정렬 \n",
        "sort()와 argsort() 알아보기 "
      ],
      "metadata": {
        "id": "DQHIrjqAystS"
      }
    },
    {
      "cell_type": "markdown",
      "source": [
        "1. sort()\n",
        "* np.sort()와 같이 넘파이에서 sort를 호출하는 방식 \n",
        "* ndarray.sort()와 같이 행렬 자체에서 sort를 호출하는 방식 \n",
        "* 내림차순으로 정렬하기 위해서는 [::-1] 사용 \n"
      ],
      "metadata": {
        "id": "CM22IMnOy87v"
      }
    },
    {
      "cell_type": "code",
      "source": [
        "org_array=np.array([3,1,9,5])\n",
        "print('원본 행렬:', org_array)\n",
        "\n",
        "sort_array1=np.sort(org_array)\n",
        "print('np.sort() 호출 후 반환된 정렬 행렬: ', sort_array1)\n",
        "print('np.sort() 호출 후 원본 행렬: ', org_array) # 원본행렬은 변하지 않음 \n",
        "\n",
        "sort_array2=org_array.sort()\n",
        "print('org_array.sort() 호출 후 반환된 행렬: ', sort_array2)\n",
        "print('org_array.sort() 호출 후 원본 행렬: ', org_array) # 원본행렬이 변함 "
      ],
      "metadata": {
        "colab": {
          "base_uri": "https://localhost:8080/"
        },
        "id": "aRWxQ-xdyz5t",
        "outputId": "90077655-8ca5-4b78-dbc5-b109e634eb7a"
      },
      "execution_count": 54,
      "outputs": [
        {
          "output_type": "stream",
          "name": "stdout",
          "text": [
            "원본 행렬: [3 1 9 5]\n",
            "np.sort() 호출 후 반환된 정렬 행렬:  [1 3 5 9]\n",
            "np.sort() 호출 후 원본 행렬:  [3 1 9 5]\n",
            "org_array.sort() 호출 후 반환된 행렬:  None\n",
            "org_array.sort() 호출 후 원본 행렬:  [1 3 5 9]\n"
          ]
        }
      ]
    },
    {
      "cell_type": "code",
      "source": [
        "sort_array1_desc=np.sort(org_array)[::-1]\n",
        "print('내림차순으로 정렬:', sort_array1_desc)"
      ],
      "metadata": {
        "colab": {
          "base_uri": "https://localhost:8080/"
        },
        "id": "Dwcy7LZt0SAc",
        "outputId": "eaa0d7b7-1ced-44b0-a58f-635dc989493e"
      },
      "execution_count": 55,
      "outputs": [
        {
          "output_type": "stream",
          "name": "stdout",
          "text": [
            "내림차순으로 정렬: [9 5 3 1]\n"
          ]
        }
      ]
    },
    {
      "cell_type": "markdown",
      "source": [
        "* 행렬이 2차원 이상인 경우 정렬하는 방법 "
      ],
      "metadata": {
        "id": "OFg6PVcc07LC"
      }
    },
    {
      "cell_type": "code",
      "source": [
        "array2d=np.array([[8,12],\n",
        "                  [7,1]])\n",
        "sort_array2d_axis0=np.sort(array2d, axis=0)\n",
        "print('로우 방향으로 정렬:\\n', sort_array2d_axis0)\n",
        "sort_array2d_axis1=np.sort(array2d, axis=1)\n",
        "print('칼럼 방향으로 정렬:\\n', sort_array2d_axis1)"
      ],
      "metadata": {
        "colab": {
          "base_uri": "https://localhost:8080/"
        },
        "id": "Zr3qK8A60dBn",
        "outputId": "fff19ed7-59d2-457a-ca70-fcf7d92ebaa0"
      },
      "execution_count": 57,
      "outputs": [
        {
          "output_type": "stream",
          "name": "stdout",
          "text": [
            "로우 방향으로 정렬:\n",
            " [[ 7  1]\n",
            " [ 8 12]]\n",
            "칼럼 방향으로 정렬:\n",
            " [[ 8 12]\n",
            " [ 1  7]]\n"
          ]
        }
      ]
    },
    {
      "cell_type": "markdown",
      "source": [
        "2. argsort()\n",
        "* 정렬 행렬의 원본 행렬 인덱스를 ndarray형으로 반환한다. "
      ],
      "metadata": {
        "id": "WQtDNLYN0-0o"
      }
    },
    {
      "cell_type": "code",
      "source": [
        "org_array=np.array([3,1,9,5])\n",
        "sort_indices=np.argsort(org_array)\n",
        "print(type(sort_indices))\n",
        "print('행렬 정렬 시 원본 행렬의 인덱스:', sort_indices) \n",
        "\n",
        "org_array=np.array([3,1,9,5])\n",
        "sort_indices_desc=np.argsort(org_array)[::-1]\n",
        "print('행렬 내림차순 정렬 시 원본 행렬의 인덱스:', sort_indices_desc) "
      ],
      "metadata": {
        "colab": {
          "base_uri": "https://localhost:8080/"
        },
        "id": "GYC5Plda04qy",
        "outputId": "87d781d1-dda1-4d29-9aee-e6626105bacf"
      },
      "execution_count": 59,
      "outputs": [
        {
          "output_type": "stream",
          "name": "stdout",
          "text": [
            "<class 'numpy.ndarray'>\n",
            "행렬 정렬 시 원본 행렬의 인덱스: [1 0 3 2]\n",
            "행렬 내림차순 정렬 시 원본 행렬의 인덱스: [2 3 0 1]\n"
          ]
        }
      ]
    },
    {
      "cell_type": "code",
      "source": [
        "name_array=np.array(['John', 'Mike', 'Sarah', 'Kate', 'Samuel'])\n",
        "score_array=np.array([78,95,84,98,88])\n",
        "sort_indeices_asc=np.argsort(score_array)\n",
        "print('성적 오름차순 정렬시 score_array의 인덱스: ', sort_indeices_asc)\n",
        "print('성적 오름차순 정렬시 name_array의 이름 출력: ', name_array[sort_indeices_asc])"
      ],
      "metadata": {
        "colab": {
          "base_uri": "https://localhost:8080/"
        },
        "id": "2PK7scuU1uJL",
        "outputId": "f9d6e2d9-479f-4b13-ecf5-127ffd9c9aa3"
      },
      "execution_count": 60,
      "outputs": [
        {
          "output_type": "stream",
          "name": "stdout",
          "text": [
            "성적 오름차순 정렬시 score_array의 인덱스:  [0 2 4 1 3]\n",
            "성적 오름차순 정렬시 name_array의 이름 출력:  ['John' 'Sarah' 'Samuel' 'Mike' 'Kate']\n"
          ]
        }
      ]
    },
    {
      "cell_type": "markdown",
      "source": [
        "# 선형대수 연산 \n",
        "행렬 내적과 전치행렬 구하기 "
      ],
      "metadata": {
        "id": "GqV1u9822PlK"
      }
    },
    {
      "cell_type": "markdown",
      "source": [
        "1. 행렬 내적 (행렬 곱) 구하기 : np.dot()"
      ],
      "metadata": {
        "id": "bZW80y2y2Uuo"
      }
    },
    {
      "cell_type": "code",
      "source": [
        "A=np.array([[1,2,3],\n",
        "            [4,5,6]])\n",
        "B=np.array([[7,8],\n",
        "            [9,10],\n",
        "            [11,12]])\n",
        "dot_product=np.dot(A,B)\n",
        "print('행렬 내적 결과:\\n', dot_product)"
      ],
      "metadata": {
        "colab": {
          "base_uri": "https://localhost:8080/"
        },
        "id": "XpEe0ESk2OzL",
        "outputId": "6e4bc9be-6101-4fb2-ca28-727b362a6109"
      },
      "execution_count": 61,
      "outputs": [
        {
          "output_type": "stream",
          "name": "stdout",
          "text": [
            "행렬 내적 결과:\n",
            " [[ 58  64]\n",
            " [139 154]]\n"
          ]
        }
      ]
    },
    {
      "cell_type": "markdown",
      "source": [
        "2. 전치 행렬구하기 : transpose()"
      ],
      "metadata": {
        "id": "YKyZ8Iz42rOi"
      }
    },
    {
      "cell_type": "code",
      "source": [
        "A=np.array([[1,2],\n",
        "            [3,4]])\n",
        "transpose_mat=np.transpose(A)\n",
        "print('A의 전치 행렬:\\n', transpose_mat)"
      ],
      "metadata": {
        "colab": {
          "base_uri": "https://localhost:8080/"
        },
        "id": "31NDnPty2vKM",
        "outputId": "03c883b6-0808-4f57-a7ac-0f465208c8dd"
      },
      "execution_count": 63,
      "outputs": [
        {
          "output_type": "stream",
          "name": "stdout",
          "text": [
            "A의 전치 행렬:\n",
            " [[1 3]\n",
            " [2 4]]\n"
          ]
        }
      ]
    }
  ]
}