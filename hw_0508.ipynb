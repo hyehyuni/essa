{
  "nbformat": 4,
  "nbformat_minor": 0,
  "metadata": {
    "colab": {
      "provenance": [],
      "authorship_tag": "ABX9TyMWdHeRjHPXfhiq0EaqSlqy",
      "include_colab_link": true
    },
    "kernelspec": {
      "name": "python3",
      "display_name": "Python 3"
    },
    "language_info": {
      "name": "python"
    }
  },
  "cells": [
    {
      "cell_type": "markdown",
      "metadata": {
        "id": "view-in-github",
        "colab_type": "text"
      },
      "source": [
        "<a href=\"https://colab.research.google.com/github/hyehyuni/essa/blob/main/hw_0508.ipynb\" target=\"_parent\"><img src=\"https://colab.research.google.com/assets/colab-badge.svg\" alt=\"Open In Colab\"/></a>"
      ]
    },
    {
      "cell_type": "markdown",
      "source": [
        "# **[과제 _ 개념정리]**\n",
        "\n",
        "**범위 : 파이썬 머신러닝 완벽가이드 ch4. 6 ~ 7, 10 pg. 227 ~ 251, 278 ~ 289**\n",
        "\n",
        "\n",
        "---\n"
      ],
      "metadata": {
        "id": "O09wGX_qYXxK"
      }
    },
    {
      "cell_type": "markdown",
      "source": [
        "## **6. XGBoost**\n",
        "\n",
        "### **1) XGBoost 개요**\n",
        "\n",
        "트리 기반의 앙상블 학습에서 가장 각광받고 있는 알고리즘\n",
        "\n",
        "<XGBoost의 장점>\n",
        "\n",
        "\n",
        "* 뛰어난 예측 성능 : 일반적으로 분류와 회귀 영역에서 뛰어난 예측 성능을 발휘\n",
        "* GBM 대비 빠른 수행 시간: 일반적인 GBM은 전반적으로 속도가 느리지만 XGBoost는 병렬 수행 및 다양한 기능으로 GBM에 비해 빠른 수행 성능을 보장 (이는 XGBoost가 일반적인 GBM에 비해 수행 시간이 빠르다는 것이지, 다른 머신러닝 알고리즘에 비해서 빠르다는 의미는 아니다.)\n",
        "* 과적합 규제:  XGBoost는 자체에 과적합 규제 기능으로 과적합에 좀 더 강한 내구성을 가질 수 있음\n",
        "* Tree pruning: : max_depth 파라미터로 분할 깊이를 조정하기도 하지만, tree pruning으로 더 이상 긍정 이득이 없는 분할을 가지치기해서 분할 수를 더 줄이는 추가적인 장점\n",
        "* 자체 내장된 교차 검증:  반복 수행 시마다 내부적으로 학습 데이터 세트와 평가 데이터 세트에 대한 교차 검증 수행(평가 값 최적화되면 조기 중단)\n",
        "* 결손값 자체 처리: XGBoost는 결손값을 자체 처리할 수 있는 기능 가지고 있음"
      ],
      "metadata": {
        "id": "eXQBjeM7YlQ_"
      }
    },
    {
      "cell_type": "markdown",
      "source": [
        "XGBoost의 파이썬 패키지는  **xgboost**\n",
        "\n",
        "-> 파이썬 래퍼 XGBoost 모듈 + 사이킷런 래퍼 XGBoost 모듈(XGBClassifier와 XGBRegressor)\n",
        "\n",
        "-> 사이킷런 래퍼 XGBoost 모듈은 사이킷런의 다른 Estimator와 사용법 같지만, 파이썬 네이티브 XGBoost는 고유의 API와 하이퍼 파라미터 이용"
      ],
      "metadata": {
        "id": "lvhguYlXYp9d"
      }
    },
    {
      "cell_type": "code",
      "execution_count": 1,
      "metadata": {
        "id": "5VAnOEEzO-bt"
      },
      "outputs": [],
      "source": [
        "import xgboost as xgb\n",
        "from xgboost import XGBClassifier"
      ]
    },
    {
      "cell_type": "markdown",
      "source": [
        "### **2) 파이썬 래퍼 XGBoost 하이퍼 파라미터**\n",
        "\n",
        "XGBoost는 GBM과 유사한 하이퍼 파라미터이지만, 사이킷런 파라미터의 범용화된 이름 규칙에 따라 파라미터명 달라진다.\n",
        "\n",
        "-> 파이썬, 사이킷런 래퍼 XGBoost 모듈 일부 하이퍼 파라미터 주의 필요\n",
        "\n",
        "(1) 일반 파라미터\n",
        "\n",
        "일반적으로 실행 시 스레드의 개수나 silent 모드 등의 선택을 위한 파라미터. 디폴트 파라미터 값을 바꾸는 경우는 거의 없음\n",
        "\n",
        "* booster : gbtree(tree based model) 또는 gblinear(linear model) 선택. 디폴트는 gbtree\n",
        "* silent : 디폴트는 0이며, 출력 메세지를 나타내고 싶지 않을 경우 1로 설정\n",
        "\n",
        "(2) 부스터 파라미터\n",
        "\n",
        "트리 최적화, 부스팅, regularization 등과 관련 파라미터 등을 지칭. 대부분의 하이퍼 파라미터\n",
        "\n",
        "* eta[default=0.3, alias:learning_rate]: GBM의 학습률(learning rate)과 같은 파라미터, 0에서 1 사이의 값을 지정하며 부스팅 스텝을 반복적으로 수행할 때 업데이트되는 학습률 값  \n",
        "\n",
        "  -> 파이썬 래퍼 기반의 xgboost를 이용할 경우 디폴트는 0.3, 사이킷런 래퍼 클래스를 이용할 경우 eta는 learning_rate 파라미터로 대체되며 디폴트는 0.1, 보통은 0.01~0.2 사이의 값을 선호\n",
        "\n",
        "* num_boost_rounds: GBM의 n_estimators와 같은 파라미터\n",
        "* min_child_weight[default=1]: 트리에서 추가적으로 가지를 나눌지를 결정하기 위해 필요한 데이터들의 weight 총합, \n",
        "  \n",
        "  -> min_child_weight이 클수록 분할을 자제함, 과적합을 조절하기 위해 사용됨\n",
        "* gamma[default=0, alias:min_split_loss]: 트리의 리프 노드를 추가적으로 나눌지를 결정할 최소 손실 감소 값, 해당 값보다 큰 손실(loss)이 감소된 경우에 리프 노드를 분리함, 값이 클수록 과적합 감소 효과가 있음\n",
        "\n",
        "* max_depth[default=6]: 트리 기반 알고리즘의 max_depth와 같음, 0을 지정하면 깊이에 제한이 없음\n",
        "\n",
        "  -> Max_depth가 높으면 특정 피처 조건에 특화되어 룰 조건이 만들어지므로 과적합 가능성이 높아지며 보통은 3~10 사이의 값 적용\n",
        "* sub_sample[default=1]: GBM의 subsample과 동일, 트리가 커져서 과적합되는 것을 제어하기 위해 데이터를 샘플링하는 비율 지정\n",
        "\n",
        "  ->  sub_sample=0.5로 지정하면 전체 데이터의 절반을 트리를 생성하는 데 사용, 0에서 1 사이의 값이 가능하나 일반적으로 0.5~1 사이의 값 사용\n",
        "* colsample_bytree[default=1]: GBM의 max_features와 유사, 트리 생성에 필요한 피처(칼럼)를 임의로 샘플링하는 데 사용됨\n",
        " \n",
        " -> 매우 많은 피처가 있는 경우 과적합을 조정하는 데 적용\n",
        "* lambda[default=1, alias:reg_lambda]: L2 Regularization 적용 값,\n",
        "\n",
        "  -> 피처 개수가 많을 경우 적용을 검토하며 값이 클수록 과적합 감소 효과가 있음\n",
        "* alpha[default=0, alias:reg_alpha]: L1 Regularization 적용 값\n",
        "\n",
        "  -> 피처 개수가 많을 경우 적용을 검토하며 값이 클수록 과적합 감소 효과가 있음\n",
        "* scale_pos_weight[default=1]: 특정 값으로 치우친 비대칭한 클래스로 구성된 데이터 세트의 균형을 유지하기 위한 파라미터\n"
      ],
      "metadata": {
        "id": "K1G0r-MyZnsa"
      }
    },
    {
      "cell_type": "markdown",
      "source": [
        "(3) 학습 태스크 파라미터 \n",
        "\n",
        "학습 수행 시의 객체 함수, 평가를 위한 지표 등을 설정하는 파라미터\n",
        "\n",
        "\n",
        "* objective: 최솟값을 가져야 할 손실 함수를 정의, XGBoost는 많은 유형의 손실함수를 사용할 수 있음,주로 사용되는 손실함수는 이진 분류인지 다중 분류인지에 따라 달라짐\n",
        "* binary:logistic: 이진 분류일 때 적용\n",
        "* multi:softmax: 다중 분류일 때 적용, 손실함수가 \n",
        "  -> multi:softmax일 경우에는 레이블 클래스의 개수인 num_class 파라미터를 지정해야 함\n",
        "\n",
        "* eval_metric: 검증에 사용되는 함수를 정의, 기본값은 회귀인 경우는 rmse, 분류일 경우에는 error\n",
        " \n",
        "  ->  rmse, mae, logloss, error, merror, mlogloss, auc\n",
        "\n",
        "<과적합의 문제가 심하다면?>\n",
        "* eta 값 낮춘다.(0.01~0.1). eta 값을 낮출 경우 num_round(또는 n_estimators)는 반대로 높여야한다.\n",
        "* max_depth 값 낮춘다.\n",
        "* min_child_weight 값 높인다.\n",
        "* gamma 값 높인다.\n",
        "* subsample과 colsample_bytree 조정\n"
      ],
      "metadata": {
        "id": "IlOjOw9La0x1"
      }
    },
    {
      "cell_type": "markdown",
      "source": [
        "<XGboost 기능>\n",
        "\n",
        "* 자체적으로 교차 검증, 성능 평가, 피처 중요도 등의 시각화 기능\n",
        "* 조기 중단 기능(n_estimators에 지정한 부스팅 반복 횟수에 도달하지 않더라도 예측 오류가 더 이상 개선되지 않으면 반복을 끝까지 수행하지 않고 중지해 수행 시간 개선)"
      ],
      "metadata": {
        "id": "QcjlO7ndbUFw"
      }
    },
    {
      "cell_type": "code",
      "source": [
        "import xgboost\n",
        "\n",
        "print(xgboost.__version__)"
      ],
      "metadata": {
        "colab": {
          "base_uri": "https://localhost:8080/"
        },
        "id": "72TN6noDZlau",
        "outputId": "662a3316-e3a5-4ffa-db6f-dd86ea7a42d9"
      },
      "execution_count": 2,
      "outputs": [
        {
          "output_type": "stream",
          "name": "stdout",
          "text": [
            "1.7.5\n"
          ]
        }
      ]
    },
    {
      "cell_type": "markdown",
      "source": [
        "### **3) 파이썬 래퍼 XGBoost 적용 - 위스콘신 유방암 예측**\n",
        "\n",
        "종양의 크기, 모양 등의 다양한 속성값을 기반으로 악성 종양인지 양성 종양인지를 분류한 데이터 세트\n",
        "\n",
        "종양은 양성 종양과 악성 종양으로 구분된다. \n",
        "\n",
        "=> 위스콘신 유방암 데이터 세트에 기반해 종양의 다양한 피처에 따라 악성종양인지 일반 양성종양인지를 XGBoost를 이용해 예측"
      ],
      "metadata": {
        "id": "3zkMW2YGbrwC"
      }
    },
    {
      "cell_type": "markdown",
      "source": [
        "* plot_importance\n",
        "\n",
        "  xgboost 패키지의 피처의 중요도 시각화해주는 모듈\n",
        "* load_breast_cancer()\n",
        "\n",
        "  사이킷런의 위스콘신 유방암 데이터 세트"
      ],
      "metadata": {
        "id": "WxQKANh8b2jH"
      }
    },
    {
      "cell_type": "code",
      "source": [
        "import xgboost as xgb\n",
        "from xgboost import plot_importance\n",
        "import pandas as pd\n",
        "import numpy as np\n",
        "from sklearn.datasets import load_breast_cancer\n",
        "from sklearn.model_selection import train_test_split\n",
        "import warnings\n",
        "warnings.filterwarnings('ignore')\n",
        "\n",
        "dataset = load_breast_cancer()\n",
        "X_features = dataset.data\n",
        "y_label = dataset.target\n",
        "\n",
        "cancer_df = pd.DataFrame(data=X_features, columns=dataset.feature_names)\n",
        "cancer_df['target'] = y_label\n",
        "cancer_df.head(3)"
      ],
      "metadata": {
        "colab": {
          "base_uri": "https://localhost:8080/",
          "height": 271
        },
        "id": "8jv7vT_eboQX",
        "outputId": "a53c13e4-0302-4df7-c742-69ac85a12e95"
      },
      "execution_count": 3,
      "outputs": [
        {
          "output_type": "execute_result",
          "data": {
            "text/plain": [
              "   mean radius  mean texture  mean perimeter  mean area  mean smoothness  \\\n",
              "0        17.99         10.38           122.8     1001.0          0.11840   \n",
              "1        20.57         17.77           132.9     1326.0          0.08474   \n",
              "2        19.69         21.25           130.0     1203.0          0.10960   \n",
              "\n",
              "   mean compactness  mean concavity  mean concave points  mean symmetry  \\\n",
              "0           0.27760          0.3001              0.14710         0.2419   \n",
              "1           0.07864          0.0869              0.07017         0.1812   \n",
              "2           0.15990          0.1974              0.12790         0.2069   \n",
              "\n",
              "   mean fractal dimension  ...  worst texture  worst perimeter  worst area  \\\n",
              "0                 0.07871  ...          17.33            184.6      2019.0   \n",
              "1                 0.05667  ...          23.41            158.8      1956.0   \n",
              "2                 0.05999  ...          25.53            152.5      1709.0   \n",
              "\n",
              "   worst smoothness  worst compactness  worst concavity  worst concave points  \\\n",
              "0            0.1622             0.6656           0.7119                0.2654   \n",
              "1            0.1238             0.1866           0.2416                0.1860   \n",
              "2            0.1444             0.4245           0.4504                0.2430   \n",
              "\n",
              "   worst symmetry  worst fractal dimension  target  \n",
              "0          0.4601                  0.11890       0  \n",
              "1          0.2750                  0.08902       0  \n",
              "2          0.3613                  0.08758       0  \n",
              "\n",
              "[3 rows x 31 columns]"
            ],
            "text/html": [
              "\n",
              "  <div id=\"df-e3e9f165-c5ad-4b31-81fb-e4ca56a5f890\">\n",
              "    <div class=\"colab-df-container\">\n",
              "      <div>\n",
              "<style scoped>\n",
              "    .dataframe tbody tr th:only-of-type {\n",
              "        vertical-align: middle;\n",
              "    }\n",
              "\n",
              "    .dataframe tbody tr th {\n",
              "        vertical-align: top;\n",
              "    }\n",
              "\n",
              "    .dataframe thead th {\n",
              "        text-align: right;\n",
              "    }\n",
              "</style>\n",
              "<table border=\"1\" class=\"dataframe\">\n",
              "  <thead>\n",
              "    <tr style=\"text-align: right;\">\n",
              "      <th></th>\n",
              "      <th>mean radius</th>\n",
              "      <th>mean texture</th>\n",
              "      <th>mean perimeter</th>\n",
              "      <th>mean area</th>\n",
              "      <th>mean smoothness</th>\n",
              "      <th>mean compactness</th>\n",
              "      <th>mean concavity</th>\n",
              "      <th>mean concave points</th>\n",
              "      <th>mean symmetry</th>\n",
              "      <th>mean fractal dimension</th>\n",
              "      <th>...</th>\n",
              "      <th>worst texture</th>\n",
              "      <th>worst perimeter</th>\n",
              "      <th>worst area</th>\n",
              "      <th>worst smoothness</th>\n",
              "      <th>worst compactness</th>\n",
              "      <th>worst concavity</th>\n",
              "      <th>worst concave points</th>\n",
              "      <th>worst symmetry</th>\n",
              "      <th>worst fractal dimension</th>\n",
              "      <th>target</th>\n",
              "    </tr>\n",
              "  </thead>\n",
              "  <tbody>\n",
              "    <tr>\n",
              "      <th>0</th>\n",
              "      <td>17.99</td>\n",
              "      <td>10.38</td>\n",
              "      <td>122.8</td>\n",
              "      <td>1001.0</td>\n",
              "      <td>0.11840</td>\n",
              "      <td>0.27760</td>\n",
              "      <td>0.3001</td>\n",
              "      <td>0.14710</td>\n",
              "      <td>0.2419</td>\n",
              "      <td>0.07871</td>\n",
              "      <td>...</td>\n",
              "      <td>17.33</td>\n",
              "      <td>184.6</td>\n",
              "      <td>2019.0</td>\n",
              "      <td>0.1622</td>\n",
              "      <td>0.6656</td>\n",
              "      <td>0.7119</td>\n",
              "      <td>0.2654</td>\n",
              "      <td>0.4601</td>\n",
              "      <td>0.11890</td>\n",
              "      <td>0</td>\n",
              "    </tr>\n",
              "    <tr>\n",
              "      <th>1</th>\n",
              "      <td>20.57</td>\n",
              "      <td>17.77</td>\n",
              "      <td>132.9</td>\n",
              "      <td>1326.0</td>\n",
              "      <td>0.08474</td>\n",
              "      <td>0.07864</td>\n",
              "      <td>0.0869</td>\n",
              "      <td>0.07017</td>\n",
              "      <td>0.1812</td>\n",
              "      <td>0.05667</td>\n",
              "      <td>...</td>\n",
              "      <td>23.41</td>\n",
              "      <td>158.8</td>\n",
              "      <td>1956.0</td>\n",
              "      <td>0.1238</td>\n",
              "      <td>0.1866</td>\n",
              "      <td>0.2416</td>\n",
              "      <td>0.1860</td>\n",
              "      <td>0.2750</td>\n",
              "      <td>0.08902</td>\n",
              "      <td>0</td>\n",
              "    </tr>\n",
              "    <tr>\n",
              "      <th>2</th>\n",
              "      <td>19.69</td>\n",
              "      <td>21.25</td>\n",
              "      <td>130.0</td>\n",
              "      <td>1203.0</td>\n",
              "      <td>0.10960</td>\n",
              "      <td>0.15990</td>\n",
              "      <td>0.1974</td>\n",
              "      <td>0.12790</td>\n",
              "      <td>0.2069</td>\n",
              "      <td>0.05999</td>\n",
              "      <td>...</td>\n",
              "      <td>25.53</td>\n",
              "      <td>152.5</td>\n",
              "      <td>1709.0</td>\n",
              "      <td>0.1444</td>\n",
              "      <td>0.4245</td>\n",
              "      <td>0.4504</td>\n",
              "      <td>0.2430</td>\n",
              "      <td>0.3613</td>\n",
              "      <td>0.08758</td>\n",
              "      <td>0</td>\n",
              "    </tr>\n",
              "  </tbody>\n",
              "</table>\n",
              "<p>3 rows × 31 columns</p>\n",
              "</div>\n",
              "      <button class=\"colab-df-convert\" onclick=\"convertToInteractive('df-e3e9f165-c5ad-4b31-81fb-e4ca56a5f890')\"\n",
              "              title=\"Convert this dataframe to an interactive table.\"\n",
              "              style=\"display:none;\">\n",
              "        \n",
              "  <svg xmlns=\"http://www.w3.org/2000/svg\" height=\"24px\"viewBox=\"0 0 24 24\"\n",
              "       width=\"24px\">\n",
              "    <path d=\"M0 0h24v24H0V0z\" fill=\"none\"/>\n",
              "    <path d=\"M18.56 5.44l.94 2.06.94-2.06 2.06-.94-2.06-.94-.94-2.06-.94 2.06-2.06.94zm-11 1L8.5 8.5l.94-2.06 2.06-.94-2.06-.94L8.5 2.5l-.94 2.06-2.06.94zm10 10l.94 2.06.94-2.06 2.06-.94-2.06-.94-.94-2.06-.94 2.06-2.06.94z\"/><path d=\"M17.41 7.96l-1.37-1.37c-.4-.4-.92-.59-1.43-.59-.52 0-1.04.2-1.43.59L10.3 9.45l-7.72 7.72c-.78.78-.78 2.05 0 2.83L4 21.41c.39.39.9.59 1.41.59.51 0 1.02-.2 1.41-.59l7.78-7.78 2.81-2.81c.8-.78.8-2.07 0-2.86zM5.41 20L4 18.59l7.72-7.72 1.47 1.35L5.41 20z\"/>\n",
              "  </svg>\n",
              "      </button>\n",
              "      \n",
              "  <style>\n",
              "    .colab-df-container {\n",
              "      display:flex;\n",
              "      flex-wrap:wrap;\n",
              "      gap: 12px;\n",
              "    }\n",
              "\n",
              "    .colab-df-convert {\n",
              "      background-color: #E8F0FE;\n",
              "      border: none;\n",
              "      border-radius: 50%;\n",
              "      cursor: pointer;\n",
              "      display: none;\n",
              "      fill: #1967D2;\n",
              "      height: 32px;\n",
              "      padding: 0 0 0 0;\n",
              "      width: 32px;\n",
              "    }\n",
              "\n",
              "    .colab-df-convert:hover {\n",
              "      background-color: #E2EBFA;\n",
              "      box-shadow: 0px 1px 2px rgba(60, 64, 67, 0.3), 0px 1px 3px 1px rgba(60, 64, 67, 0.15);\n",
              "      fill: #174EA6;\n",
              "    }\n",
              "\n",
              "    [theme=dark] .colab-df-convert {\n",
              "      background-color: #3B4455;\n",
              "      fill: #D2E3FC;\n",
              "    }\n",
              "\n",
              "    [theme=dark] .colab-df-convert:hover {\n",
              "      background-color: #434B5C;\n",
              "      box-shadow: 0px 1px 3px 1px rgba(0, 0, 0, 0.15);\n",
              "      filter: drop-shadow(0px 1px 2px rgba(0, 0, 0, 0.3));\n",
              "      fill: #FFFFFF;\n",
              "    }\n",
              "  </style>\n",
              "\n",
              "      <script>\n",
              "        const buttonEl =\n",
              "          document.querySelector('#df-e3e9f165-c5ad-4b31-81fb-e4ca56a5f890 button.colab-df-convert');\n",
              "        buttonEl.style.display =\n",
              "          google.colab.kernel.accessAllowed ? 'block' : 'none';\n",
              "\n",
              "        async function convertToInteractive(key) {\n",
              "          const element = document.querySelector('#df-e3e9f165-c5ad-4b31-81fb-e4ca56a5f890');\n",
              "          const dataTable =\n",
              "            await google.colab.kernel.invokeFunction('convertToInteractive',\n",
              "                                                     [key], {});\n",
              "          if (!dataTable) return;\n",
              "\n",
              "          const docLinkHtml = 'Like what you see? Visit the ' +\n",
              "            '<a target=\"_blank\" href=https://colab.research.google.com/notebooks/data_table.ipynb>data table notebook</a>'\n",
              "            + ' to learn more about interactive tables.';\n",
              "          element.innerHTML = '';\n",
              "          dataTable['output_type'] = 'display_data';\n",
              "          await google.colab.output.renderOutput(dataTable, element);\n",
              "          const docLink = document.createElement('div');\n",
              "          docLink.innerHTML = docLinkHtml;\n",
              "          element.appendChild(docLink);\n",
              "        }\n",
              "      </script>\n",
              "    </div>\n",
              "  </div>\n",
              "  "
            ]
          },
          "metadata": {},
          "execution_count": 3
        }
      ]
    },
    {
      "cell_type": "markdown",
      "source": [
        "->  종양의 크기와 모양에 관련된 많은 속성이 숫자형 값임\n",
        "\n",
        "->  타킷 레이블 값의 종류는 악성인 'malignant'가 0 값으로, 양성인 'benign'이 1값으로"
      ],
      "metadata": {
        "id": "Uiq344jbcDK_"
      }
    },
    {
      "cell_type": "markdown",
      "source": [
        "(1) 레이블 값의 분포"
      ],
      "metadata": {
        "id": "UMeahJ_VcIf2"
      }
    },
    {
      "cell_type": "code",
      "source": [
        "print(dataset.target_names)\n",
        "print(cancer_df['target'].value_counts())"
      ],
      "metadata": {
        "colab": {
          "base_uri": "https://localhost:8080/"
        },
        "id": "Qe11gJFtcB5n",
        "outputId": "704fbaa7-21f1-4d34-e3f2-cc02690d829a"
      },
      "execution_count": 4,
      "outputs": [
        {
          "output_type": "stream",
          "name": "stdout",
          "text": [
            "['malignant' 'benign']\n",
            "1    357\n",
            "0    212\n",
            "Name: target, dtype: int64\n"
          ]
        }
      ]
    },
    {
      "cell_type": "markdown",
      "source": [
        "->  1값인 양성 benign이 357개, 0값인 악성 malignant가 212개로 구성."
      ],
      "metadata": {
        "id": "JEsbGw6pcSvG"
      }
    },
    {
      "cell_type": "markdown",
      "source": [
        "(2) 데이터세트 분할\n",
        "\n",
        "전체 데이터 세트 중 80%를 학습용으로, 20%를 테스트용으로 분할."
      ],
      "metadata": {
        "id": "s1ypX62EcVw9"
      }
    },
    {
      "cell_type": "code",
      "source": [
        "X_train, X_test, y_train, y_test = train_test_split(X_features, y_label, test_size=0.2, random_state=156)\n",
        "print(X_train.shape, X_test.shape)"
      ],
      "metadata": {
        "colab": {
          "base_uri": "https://localhost:8080/"
        },
        "id": "isAyg8O3cQd7",
        "outputId": "e0d26fae-4c70-457c-d992-bf5548cd2edc"
      },
      "execution_count": 5,
      "outputs": [
        {
          "output_type": "stream",
          "name": "stdout",
          "text": [
            "(455, 30) (114, 30)\n"
          ]
        }
      ]
    },
    {
      "cell_type": "markdown",
      "source": [
        "(3) DMatrix\n",
        "\n",
        "넘파이 형태의 학습 데이터 세트와 테스트 데이터 세트를 DMatrix로 변환"
      ],
      "metadata": {
        "id": "ROZnPWdJcoaW"
      }
    },
    {
      "cell_type": "markdown",
      "source": [
        "* 파이썬 래퍼 XGBoost와 사이킷런과의 가장 큰 차이는 학습용과 테스트용 데이터 세트를 위해 별도의 객체인 DMatrix를 생성한다는 것\n",
        "\n",
        "* DMatrix \n",
        "\n",
        "  -> 주로 넘파이 입력 파라미터를 받아서 만들어지는 XGBoost만의 전용 데이터 세트\n",
        "\n",
        "  -> 주요 입력 파라미터 : data(피처 데이터 세트)\n",
        "   \n",
        "  -> 넘파이 외에 libsvm txt 포맷 파일, xgboost 이진 버퍼 파일을 파라미터로 입력받아 변환 가능"
      ],
      "metadata": {
        "id": "gnWct7lAccll"
      }
    },
    {
      "cell_type": "code",
      "source": [
        "dtrain = xgb.DMatrix(data=X_train, label=y_train)\n",
        "dtest = xgb.DMatrix(data=X_test, label=y_test)"
      ],
      "metadata": {
        "id": "_I_VXZpkcaCw"
      },
      "execution_count": 6,
      "outputs": []
    },
    {
      "cell_type": "markdown",
      "source": [
        "(4) 하이퍼 파라미터 설정 "
      ],
      "metadata": {
        "id": "ZreXMonwctqo"
      }
    },
    {
      "cell_type": "code",
      "source": [
        "params = { 'max_depth' :3,\n",
        "          'eta' :0.1,                              # XGBClassifier 사용할 경우 eta가 아니라 learning_rate\n",
        "          'objective' :'binary:logistic',          # 0 또는 1 이진분류이므로 목적함수는 이진 로지스틱\n",
        "          'eval_metric' :'logloss',\n",
        "          'early_stoppings' :100\n",
        "}\n",
        "num_rounds = 400"
      ],
      "metadata": {
        "id": "ZXICaU0FctTM"
      },
      "execution_count": 7,
      "outputs": []
    },
    {
      "cell_type": "markdown",
      "source": [
        "(5) 모델 학습\n",
        "\n",
        "지정된 하이퍼 파라미터로 XGBoost 모델 학습\n",
        "\n",
        "파이썬 래퍼 XGBoost는 하이퍼 파라미터를 xgboost 모듈의 train() 함수에 파라미터로 전달\n",
        "\n",
        "* early_stopping_rounds\n",
        "\n",
        "  -> 조기 중단은 xgboost의 train() 함수에 early_stopping_rounds 파라미터 입력\n",
        "\n",
        "  -> 반드시 eval_set과 eval_metric를 함께 설정해야한다.\n",
        "\n",
        "  -> eval_set 는 성능 평가를 수행할 평가용 데이터 세트 설정\n",
        "\n",
        "  -> eval_metric 은 평가 세트에 적용할 성능 평가 방법이며 분류일 경우는 주로 'error', 'logloss' 적용\n",
        "  \n",
        "  -> evals 파라미터에 학습 데이터 세트와 eval 데이터 세트 명기해야해"
      ],
      "metadata": {
        "id": "m1qxIWVEcyuL"
      }
    },
    {
      "cell_type": "code",
      "source": [
        "# train 데이터 세트는 'train', evaluation(test) 데이터 세트는 'eval'로 명기합니다.\n",
        "wlist = [(dtrain, 'train'), (dtest, 'eval')]\n",
        "# 하이퍼 파라미터와 early stopping 파라미터를 train() 함수의 파라미터로 전달\n",
        "xgb_model = xgb.train(params=params, dtrain=dtrain, num_boost_round=num_rounds, \\\n",
        "                      early_stopping_rounds=100, evals=wlist)"
      ],
      "metadata": {
        "colab": {
          "base_uri": "https://localhost:8080/"
        },
        "id": "pZ6iKWzRcxoT",
        "outputId": "182d4dac-0838-406b-e9a9-233d2b980087"
      },
      "execution_count": 8,
      "outputs": [
        {
          "output_type": "stream",
          "name": "stdout",
          "text": [
            "[05:35:00] WARNING: ../src/learner.cc:767: \n",
            "Parameters: { \"early_stoppings\" } are not used.\n",
            "\n",
            "[0]\ttrain-logloss:0.60969\teval-logloss:0.61352\n",
            "[1]\ttrain-logloss:0.54080\teval-logloss:0.54784\n",
            "[2]\ttrain-logloss:0.48375\teval-logloss:0.49425\n",
            "[3]\ttrain-logloss:0.43446\teval-logloss:0.44799\n",
            "[4]\ttrain-logloss:0.39055\teval-logloss:0.40911\n",
            "[5]\ttrain-logloss:0.35415\teval-logloss:0.37498\n",
            "[6]\ttrain-logloss:0.32122\teval-logloss:0.34571\n",
            "[7]\ttrain-logloss:0.29259\teval-logloss:0.32053\n",
            "[8]\ttrain-logloss:0.26747\teval-logloss:0.29721\n",
            "[9]\ttrain-logloss:0.24515\teval-logloss:0.27799\n",
            "[10]\ttrain-logloss:0.22569\teval-logloss:0.26030\n",
            "[11]\ttrain-logloss:0.20794\teval-logloss:0.24604\n",
            "[12]\ttrain-logloss:0.19218\teval-logloss:0.23156\n",
            "[13]\ttrain-logloss:0.17792\teval-logloss:0.22005\n",
            "[14]\ttrain-logloss:0.16522\teval-logloss:0.20857\n",
            "[15]\ttrain-logloss:0.15362\teval-logloss:0.19999\n",
            "[16]\ttrain-logloss:0.14333\teval-logloss:0.19012\n",
            "[17]\ttrain-logloss:0.13398\teval-logloss:0.18182\n",
            "[18]\ttrain-logloss:0.12560\teval-logloss:0.17473\n",
            "[19]\ttrain-logloss:0.11729\teval-logloss:0.16766\n",
            "[20]\ttrain-logloss:0.10969\teval-logloss:0.15820\n",
            "[21]\ttrain-logloss:0.10297\teval-logloss:0.15472\n",
            "[22]\ttrain-logloss:0.09707\teval-logloss:0.14895\n",
            "[23]\ttrain-logloss:0.09143\teval-logloss:0.14331\n",
            "[24]\ttrain-logloss:0.08634\teval-logloss:0.13634\n",
            "[25]\ttrain-logloss:0.08131\teval-logloss:0.13278\n",
            "[26]\ttrain-logloss:0.07686\teval-logloss:0.12791\n",
            "[27]\ttrain-logloss:0.07284\teval-logloss:0.12526\n",
            "[28]\ttrain-logloss:0.06925\teval-logloss:0.11998\n",
            "[29]\ttrain-logloss:0.06555\teval-logloss:0.11641\n",
            "[30]\ttrain-logloss:0.06241\teval-logloss:0.11450\n",
            "[31]\ttrain-logloss:0.05959\teval-logloss:0.11257\n",
            "[32]\ttrain-logloss:0.05710\teval-logloss:0.11154\n",
            "[33]\ttrain-logloss:0.05441\teval-logloss:0.10868\n",
            "[34]\ttrain-logloss:0.05204\teval-logloss:0.10668\n",
            "[35]\ttrain-logloss:0.04975\teval-logloss:0.10421\n",
            "[36]\ttrain-logloss:0.04775\teval-logloss:0.10296\n",
            "[37]\ttrain-logloss:0.04585\teval-logloss:0.10058\n",
            "[38]\ttrain-logloss:0.04401\teval-logloss:0.09868\n",
            "[39]\ttrain-logloss:0.04226\teval-logloss:0.09644\n",
            "[40]\ttrain-logloss:0.04065\teval-logloss:0.09587\n",
            "[41]\ttrain-logloss:0.03913\teval-logloss:0.09424\n",
            "[42]\ttrain-logloss:0.03738\teval-logloss:0.09471\n",
            "[43]\ttrain-logloss:0.03611\teval-logloss:0.09427\n",
            "[44]\ttrain-logloss:0.03494\teval-logloss:0.09389\n",
            "[45]\ttrain-logloss:0.03365\teval-logloss:0.09418\n",
            "[46]\ttrain-logloss:0.03253\teval-logloss:0.09402\n",
            "[47]\ttrain-logloss:0.03148\teval-logloss:0.09236\n",
            "[48]\ttrain-logloss:0.03039\teval-logloss:0.09301\n",
            "[49]\ttrain-logloss:0.02947\teval-logloss:0.09127\n",
            "[50]\ttrain-logloss:0.02854\teval-logloss:0.09005\n",
            "[51]\ttrain-logloss:0.02753\teval-logloss:0.08961\n",
            "[52]\ttrain-logloss:0.02656\teval-logloss:0.08958\n",
            "[53]\ttrain-logloss:0.02568\teval-logloss:0.09070\n",
            "[54]\ttrain-logloss:0.02500\teval-logloss:0.08958\n",
            "[55]\ttrain-logloss:0.02430\teval-logloss:0.09036\n",
            "[56]\ttrain-logloss:0.02357\teval-logloss:0.09159\n",
            "[57]\ttrain-logloss:0.02296\teval-logloss:0.09153\n",
            "[58]\ttrain-logloss:0.02249\teval-logloss:0.09199\n",
            "[59]\ttrain-logloss:0.02185\teval-logloss:0.09195\n",
            "[60]\ttrain-logloss:0.02132\teval-logloss:0.09194\n",
            "[61]\ttrain-logloss:0.02079\teval-logloss:0.09146\n",
            "[62]\ttrain-logloss:0.02022\teval-logloss:0.09031\n",
            "[63]\ttrain-logloss:0.01970\teval-logloss:0.08941\n",
            "[64]\ttrain-logloss:0.01918\teval-logloss:0.08972\n",
            "[65]\ttrain-logloss:0.01872\teval-logloss:0.08974\n",
            "[66]\ttrain-logloss:0.01833\teval-logloss:0.08962\n",
            "[67]\ttrain-logloss:0.01787\teval-logloss:0.08873\n",
            "[68]\ttrain-logloss:0.01760\teval-logloss:0.08862\n",
            "[69]\ttrain-logloss:0.01724\teval-logloss:0.08974\n",
            "[70]\ttrain-logloss:0.01688\teval-logloss:0.08998\n",
            "[71]\ttrain-logloss:0.01664\teval-logloss:0.08978\n",
            "[72]\ttrain-logloss:0.01629\teval-logloss:0.08958\n",
            "[73]\ttrain-logloss:0.01598\teval-logloss:0.08953\n",
            "[74]\ttrain-logloss:0.01566\teval-logloss:0.08875\n",
            "[75]\ttrain-logloss:0.01539\teval-logloss:0.08860\n",
            "[76]\ttrain-logloss:0.01515\teval-logloss:0.08812\n",
            "[77]\ttrain-logloss:0.01488\teval-logloss:0.08840\n",
            "[78]\ttrain-logloss:0.01464\teval-logloss:0.08874\n",
            "[79]\ttrain-logloss:0.01449\teval-logloss:0.08815\n",
            "[80]\ttrain-logloss:0.01418\teval-logloss:0.08758\n",
            "[81]\ttrain-logloss:0.01400\teval-logloss:0.08741\n",
            "[82]\ttrain-logloss:0.01377\teval-logloss:0.08849\n",
            "[83]\ttrain-logloss:0.01357\teval-logloss:0.08857\n",
            "[84]\ttrain-logloss:0.01341\teval-logloss:0.08807\n",
            "[85]\ttrain-logloss:0.01325\teval-logloss:0.08764\n",
            "[86]\ttrain-logloss:0.01311\teval-logloss:0.08742\n",
            "[87]\ttrain-logloss:0.01293\teval-logloss:0.08761\n",
            "[88]\ttrain-logloss:0.01271\teval-logloss:0.08707\n",
            "[89]\ttrain-logloss:0.01254\teval-logloss:0.08727\n",
            "[90]\ttrain-logloss:0.01235\teval-logloss:0.08716\n",
            "[91]\ttrain-logloss:0.01223\teval-logloss:0.08696\n",
            "[92]\ttrain-logloss:0.01206\teval-logloss:0.08717\n",
            "[93]\ttrain-logloss:0.01193\teval-logloss:0.08707\n",
            "[94]\ttrain-logloss:0.01182\teval-logloss:0.08659\n",
            "[95]\ttrain-logloss:0.01165\teval-logloss:0.08612\n",
            "[96]\ttrain-logloss:0.01148\teval-logloss:0.08714\n",
            "[97]\ttrain-logloss:0.01136\teval-logloss:0.08677\n",
            "[98]\ttrain-logloss:0.01124\teval-logloss:0.08669\n",
            "[99]\ttrain-logloss:0.01113\teval-logloss:0.08655\n",
            "[100]\ttrain-logloss:0.01100\teval-logloss:0.08650\n",
            "[101]\ttrain-logloss:0.01085\teval-logloss:0.08641\n",
            "[102]\ttrain-logloss:0.01075\teval-logloss:0.08629\n",
            "[103]\ttrain-logloss:0.01064\teval-logloss:0.08626\n",
            "[104]\ttrain-logloss:0.01050\teval-logloss:0.08683\n",
            "[105]\ttrain-logloss:0.01040\teval-logloss:0.08677\n",
            "[106]\ttrain-logloss:0.01030\teval-logloss:0.08732\n",
            "[107]\ttrain-logloss:0.01020\teval-logloss:0.08730\n",
            "[108]\ttrain-logloss:0.01007\teval-logloss:0.08728\n",
            "[109]\ttrain-logloss:0.01000\teval-logloss:0.08730\n",
            "[110]\ttrain-logloss:0.00991\teval-logloss:0.08729\n",
            "[111]\ttrain-logloss:0.00980\teval-logloss:0.08800\n",
            "[112]\ttrain-logloss:0.00971\teval-logloss:0.08794\n",
            "[113]\ttrain-logloss:0.00963\teval-logloss:0.08784\n",
            "[114]\ttrain-logloss:0.00956\teval-logloss:0.08807\n",
            "[115]\ttrain-logloss:0.00948\teval-logloss:0.08765\n",
            "[116]\ttrain-logloss:0.00942\teval-logloss:0.08730\n",
            "[117]\ttrain-logloss:0.00931\teval-logloss:0.08780\n",
            "[118]\ttrain-logloss:0.00923\teval-logloss:0.08775\n",
            "[119]\ttrain-logloss:0.00915\teval-logloss:0.08768\n",
            "[120]\ttrain-logloss:0.00912\teval-logloss:0.08763\n",
            "[121]\ttrain-logloss:0.00902\teval-logloss:0.08757\n",
            "[122]\ttrain-logloss:0.00897\teval-logloss:0.08755\n",
            "[123]\ttrain-logloss:0.00890\teval-logloss:0.08716\n",
            "[124]\ttrain-logloss:0.00884\teval-logloss:0.08767\n",
            "[125]\ttrain-logloss:0.00880\teval-logloss:0.08774\n",
            "[126]\ttrain-logloss:0.00871\teval-logloss:0.08827\n",
            "[127]\ttrain-logloss:0.00865\teval-logloss:0.08831\n",
            "[128]\ttrain-logloss:0.00861\teval-logloss:0.08827\n",
            "[129]\ttrain-logloss:0.00856\teval-logloss:0.08789\n",
            "[130]\ttrain-logloss:0.00846\teval-logloss:0.08886\n",
            "[131]\ttrain-logloss:0.00842\teval-logloss:0.08868\n",
            "[132]\ttrain-logloss:0.00839\teval-logloss:0.08874\n",
            "[133]\ttrain-logloss:0.00830\teval-logloss:0.08922\n",
            "[134]\ttrain-logloss:0.00827\teval-logloss:0.08918\n",
            "[135]\ttrain-logloss:0.00822\teval-logloss:0.08882\n",
            "[136]\ttrain-logloss:0.00816\teval-logloss:0.08851\n",
            "[137]\ttrain-logloss:0.00808\teval-logloss:0.08848\n",
            "[138]\ttrain-logloss:0.00805\teval-logloss:0.08839\n",
            "[139]\ttrain-logloss:0.00797\teval-logloss:0.08915\n",
            "[140]\ttrain-logloss:0.00795\teval-logloss:0.08911\n",
            "[141]\ttrain-logloss:0.00790\teval-logloss:0.08876\n",
            "[142]\ttrain-logloss:0.00787\teval-logloss:0.08868\n",
            "[143]\ttrain-logloss:0.00785\teval-logloss:0.08839\n",
            "[144]\ttrain-logloss:0.00778\teval-logloss:0.08927\n",
            "[145]\ttrain-logloss:0.00775\teval-logloss:0.08924\n",
            "[146]\ttrain-logloss:0.00773\teval-logloss:0.08914\n",
            "[147]\ttrain-logloss:0.00769\teval-logloss:0.08891\n",
            "[148]\ttrain-logloss:0.00762\teval-logloss:0.08942\n",
            "[149]\ttrain-logloss:0.00760\teval-logloss:0.08939\n",
            "[150]\ttrain-logloss:0.00757\teval-logloss:0.08911\n",
            "[151]\ttrain-logloss:0.00752\teval-logloss:0.08873\n",
            "[152]\ttrain-logloss:0.00750\teval-logloss:0.08872\n",
            "[153]\ttrain-logloss:0.00746\teval-logloss:0.08848\n",
            "[154]\ttrain-logloss:0.00741\teval-logloss:0.08847\n",
            "[155]\ttrain-logloss:0.00739\teval-logloss:0.08855\n",
            "[156]\ttrain-logloss:0.00737\teval-logloss:0.08852\n",
            "[157]\ttrain-logloss:0.00735\teval-logloss:0.08855\n",
            "[158]\ttrain-logloss:0.00732\teval-logloss:0.08827\n",
            "[159]\ttrain-logloss:0.00730\teval-logloss:0.08830\n",
            "[160]\ttrain-logloss:0.00728\teval-logloss:0.08828\n",
            "[161]\ttrain-logloss:0.00726\teval-logloss:0.08801\n",
            "[162]\ttrain-logloss:0.00724\teval-logloss:0.08776\n",
            "[163]\ttrain-logloss:0.00722\teval-logloss:0.08778\n",
            "[164]\ttrain-logloss:0.00720\teval-logloss:0.08778\n",
            "[165]\ttrain-logloss:0.00718\teval-logloss:0.08752\n",
            "[166]\ttrain-logloss:0.00716\teval-logloss:0.08754\n",
            "[167]\ttrain-logloss:0.00714\teval-logloss:0.08764\n",
            "[168]\ttrain-logloss:0.00712\teval-logloss:0.08739\n",
            "[169]\ttrain-logloss:0.00710\teval-logloss:0.08738\n",
            "[170]\ttrain-logloss:0.00708\teval-logloss:0.08730\n",
            "[171]\ttrain-logloss:0.00707\teval-logloss:0.08737\n",
            "[172]\ttrain-logloss:0.00705\teval-logloss:0.08740\n",
            "[173]\ttrain-logloss:0.00703\teval-logloss:0.08739\n",
            "[174]\ttrain-logloss:0.00701\teval-logloss:0.08713\n",
            "[175]\ttrain-logloss:0.00699\teval-logloss:0.08716\n",
            "[176]\ttrain-logloss:0.00697\teval-logloss:0.08695\n",
            "[177]\ttrain-logloss:0.00695\teval-logloss:0.08705\n",
            "[178]\ttrain-logloss:0.00694\teval-logloss:0.08697\n",
            "[179]\ttrain-logloss:0.00692\teval-logloss:0.08697\n",
            "[180]\ttrain-logloss:0.00690\teval-logloss:0.08704\n",
            "[181]\ttrain-logloss:0.00688\teval-logloss:0.08680\n",
            "[182]\ttrain-logloss:0.00687\teval-logloss:0.08683\n",
            "[183]\ttrain-logloss:0.00685\teval-logloss:0.08658\n",
            "[184]\ttrain-logloss:0.00683\teval-logloss:0.08659\n",
            "[185]\ttrain-logloss:0.00681\teval-logloss:0.08661\n",
            "[186]\ttrain-logloss:0.00680\teval-logloss:0.08637\n",
            "[187]\ttrain-logloss:0.00678\teval-logloss:0.08637\n",
            "[188]\ttrain-logloss:0.00676\teval-logloss:0.08630\n",
            "[189]\ttrain-logloss:0.00675\teval-logloss:0.08610\n",
            "[190]\ttrain-logloss:0.00673\teval-logloss:0.08602\n",
            "[191]\ttrain-logloss:0.00671\teval-logloss:0.08605\n",
            "[192]\ttrain-logloss:0.00670\teval-logloss:0.08615\n",
            "[193]\ttrain-logloss:0.00668\teval-logloss:0.08592\n",
            "[194]\ttrain-logloss:0.00667\teval-logloss:0.08591\n",
            "[195]\ttrain-logloss:0.00665\teval-logloss:0.08598\n",
            "[196]\ttrain-logloss:0.00663\teval-logloss:0.08601\n",
            "[197]\ttrain-logloss:0.00662\teval-logloss:0.08592\n",
            "[198]\ttrain-logloss:0.00660\teval-logloss:0.08585\n",
            "[199]\ttrain-logloss:0.00659\teval-logloss:0.08587\n",
            "[200]\ttrain-logloss:0.00657\teval-logloss:0.08589\n",
            "[201]\ttrain-logloss:0.00656\teval-logloss:0.08595\n",
            "[202]\ttrain-logloss:0.00654\teval-logloss:0.08573\n",
            "[203]\ttrain-logloss:0.00653\teval-logloss:0.08573\n",
            "[204]\ttrain-logloss:0.00651\teval-logloss:0.08575\n",
            "[205]\ttrain-logloss:0.00650\teval-logloss:0.08582\n",
            "[206]\ttrain-logloss:0.00648\teval-logloss:0.08584\n",
            "[207]\ttrain-logloss:0.00647\teval-logloss:0.08578\n",
            "[208]\ttrain-logloss:0.00645\teval-logloss:0.08569\n",
            "[209]\ttrain-logloss:0.00644\teval-logloss:0.08571\n",
            "[210]\ttrain-logloss:0.00643\teval-logloss:0.08581\n",
            "[211]\ttrain-logloss:0.00641\teval-logloss:0.08559\n",
            "[212]\ttrain-logloss:0.00640\teval-logloss:0.08580\n",
            "[213]\ttrain-logloss:0.00639\teval-logloss:0.08581\n",
            "[214]\ttrain-logloss:0.00637\teval-logloss:0.08574\n",
            "[215]\ttrain-logloss:0.00636\teval-logloss:0.08566\n",
            "[216]\ttrain-logloss:0.00635\teval-logloss:0.08584\n",
            "[217]\ttrain-logloss:0.00633\teval-logloss:0.08563\n",
            "[218]\ttrain-logloss:0.00632\teval-logloss:0.08573\n",
            "[219]\ttrain-logloss:0.00631\teval-logloss:0.08578\n",
            "[220]\ttrain-logloss:0.00629\teval-logloss:0.08579\n",
            "[221]\ttrain-logloss:0.00628\teval-logloss:0.08582\n",
            "[222]\ttrain-logloss:0.00627\teval-logloss:0.08576\n",
            "[223]\ttrain-logloss:0.00626\teval-logloss:0.08567\n",
            "[224]\ttrain-logloss:0.00624\teval-logloss:0.08586\n",
            "[225]\ttrain-logloss:0.00623\teval-logloss:0.08587\n",
            "[226]\ttrain-logloss:0.00622\teval-logloss:0.08593\n",
            "[227]\ttrain-logloss:0.00621\teval-logloss:0.08595\n",
            "[228]\ttrain-logloss:0.00619\teval-logloss:0.08587\n",
            "[229]\ttrain-logloss:0.00618\teval-logloss:0.08606\n",
            "[230]\ttrain-logloss:0.00617\teval-logloss:0.08600\n",
            "[231]\ttrain-logloss:0.00616\teval-logloss:0.08592\n",
            "[232]\ttrain-logloss:0.00615\teval-logloss:0.08610\n",
            "[233]\ttrain-logloss:0.00614\teval-logloss:0.08611\n",
            "[234]\ttrain-logloss:0.00612\teval-logloss:0.08617\n",
            "[235]\ttrain-logloss:0.00611\teval-logloss:0.08626\n",
            "[236]\ttrain-logloss:0.00610\teval-logloss:0.08629\n",
            "[237]\ttrain-logloss:0.00609\teval-logloss:0.08622\n",
            "[238]\ttrain-logloss:0.00608\teval-logloss:0.08639\n",
            "[239]\ttrain-logloss:0.00607\teval-logloss:0.08634\n",
            "[240]\ttrain-logloss:0.00606\teval-logloss:0.08618\n",
            "[241]\ttrain-logloss:0.00605\teval-logloss:0.08620\n",
            "[242]\ttrain-logloss:0.00604\teval-logloss:0.08625\n",
            "[243]\ttrain-logloss:0.00602\teval-logloss:0.08626\n",
            "[244]\ttrain-logloss:0.00601\teval-logloss:0.08629\n",
            "[245]\ttrain-logloss:0.00600\teval-logloss:0.08622\n",
            "[246]\ttrain-logloss:0.00599\teval-logloss:0.08640\n",
            "[247]\ttrain-logloss:0.00598\teval-logloss:0.08635\n",
            "[248]\ttrain-logloss:0.00597\teval-logloss:0.08628\n",
            "[249]\ttrain-logloss:0.00596\teval-logloss:0.08645\n",
            "[250]\ttrain-logloss:0.00595\teval-logloss:0.08629\n",
            "[251]\ttrain-logloss:0.00594\teval-logloss:0.08631\n",
            "[252]\ttrain-logloss:0.00593\teval-logloss:0.08636\n",
            "[253]\ttrain-logloss:0.00592\teval-logloss:0.08639\n",
            "[254]\ttrain-logloss:0.00591\teval-logloss:0.08649\n",
            "[255]\ttrain-logloss:0.00590\teval-logloss:0.08644\n",
            "[256]\ttrain-logloss:0.00589\teval-logloss:0.08629\n",
            "[257]\ttrain-logloss:0.00588\teval-logloss:0.08646\n",
            "[258]\ttrain-logloss:0.00587\teval-logloss:0.08639\n",
            "[259]\ttrain-logloss:0.00586\teval-logloss:0.08644\n",
            "[260]\ttrain-logloss:0.00585\teval-logloss:0.08646\n",
            "[261]\ttrain-logloss:0.00585\teval-logloss:0.08649\n",
            "[262]\ttrain-logloss:0.00584\teval-logloss:0.08645\n",
            "[263]\ttrain-logloss:0.00583\teval-logloss:0.08647\n",
            "[264]\ttrain-logloss:0.00582\teval-logloss:0.08632\n",
            "[265]\ttrain-logloss:0.00581\teval-logloss:0.08649\n",
            "[266]\ttrain-logloss:0.00580\teval-logloss:0.08654\n",
            "[267]\ttrain-logloss:0.00579\teval-logloss:0.08647\n",
            "[268]\ttrain-logloss:0.00578\teval-logloss:0.08650\n",
            "[269]\ttrain-logloss:0.00577\teval-logloss:0.08652\n",
            "[270]\ttrain-logloss:0.00576\teval-logloss:0.08669\n",
            "[271]\ttrain-logloss:0.00576\teval-logloss:0.08674\n",
            "[272]\ttrain-logloss:0.00575\teval-logloss:0.08683\n",
            "[273]\ttrain-logloss:0.00574\teval-logloss:0.08668\n",
            "[274]\ttrain-logloss:0.00573\teval-logloss:0.08664\n",
            "[275]\ttrain-logloss:0.00572\teval-logloss:0.08650\n",
            "[276]\ttrain-logloss:0.00571\teval-logloss:0.08635\n",
            "[277]\ttrain-logloss:0.00570\teval-logloss:0.08652\n",
            "[278]\ttrain-logloss:0.00570\teval-logloss:0.08657\n",
            "[279]\ttrain-logloss:0.00569\teval-logloss:0.08659\n",
            "[280]\ttrain-logloss:0.00568\teval-logloss:0.08668\n",
            "[281]\ttrain-logloss:0.00567\teval-logloss:0.08664\n",
            "[282]\ttrain-logloss:0.00566\teval-logloss:0.08650\n",
            "[283]\ttrain-logloss:0.00565\teval-logloss:0.08636\n",
            "[284]\ttrain-logloss:0.00565\teval-logloss:0.08640\n",
            "[285]\ttrain-logloss:0.00564\teval-logloss:0.08643\n",
            "[286]\ttrain-logloss:0.00563\teval-logloss:0.08646\n",
            "[287]\ttrain-logloss:0.00562\teval-logloss:0.08650\n",
            "[288]\ttrain-logloss:0.00562\teval-logloss:0.08637\n",
            "[289]\ttrain-logloss:0.00561\teval-logloss:0.08646\n",
            "[290]\ttrain-logloss:0.00560\teval-logloss:0.08645\n",
            "[291]\ttrain-logloss:0.00559\teval-logloss:0.08632\n",
            "[292]\ttrain-logloss:0.00558\teval-logloss:0.08628\n",
            "[293]\ttrain-logloss:0.00558\teval-logloss:0.08615\n",
            "[294]\ttrain-logloss:0.00557\teval-logloss:0.08620\n",
            "[295]\ttrain-logloss:0.00556\teval-logloss:0.08622\n",
            "[296]\ttrain-logloss:0.00556\teval-logloss:0.08631\n",
            "[297]\ttrain-logloss:0.00555\teval-logloss:0.08618\n",
            "[298]\ttrain-logloss:0.00554\teval-logloss:0.08626\n",
            "[299]\ttrain-logloss:0.00553\teval-logloss:0.08613\n",
            "[300]\ttrain-logloss:0.00553\teval-logloss:0.08618\n",
            "[301]\ttrain-logloss:0.00552\teval-logloss:0.08605\n",
            "[302]\ttrain-logloss:0.00551\teval-logloss:0.08602\n",
            "[303]\ttrain-logloss:0.00551\teval-logloss:0.08610\n",
            "[304]\ttrain-logloss:0.00550\teval-logloss:0.08598\n",
            "[305]\ttrain-logloss:0.00549\teval-logloss:0.08606\n",
            "[306]\ttrain-logloss:0.00548\teval-logloss:0.08597\n",
            "[307]\ttrain-logloss:0.00548\teval-logloss:0.08600\n",
            "[308]\ttrain-logloss:0.00547\teval-logloss:0.08600\n",
            "[309]\ttrain-logloss:0.00546\teval-logloss:0.08588\n",
            "[310]\ttrain-logloss:0.00546\teval-logloss:0.08592\n"
          ]
        }
      ]
    },
    {
      "cell_type": "markdown",
      "source": [
        "->  train-error와 eval_logloss가 지속적으로 감소"
      ],
      "metadata": {
        "id": "_yAf-FCIdQja"
      }
    },
    {
      "cell_type": "markdown",
      "source": [
        "(6) 테스트 데이터 세트에 예측 수행\n",
        "\n",
        " xgboost의 predict()는 예측 결괏값이 아닌 예측 결과를 추정할 수 있는 확률 값을 반환함을 주의!\n",
        "\n",
        " -> 본 예제는 이진 분류이므로 0.5 기준으로 0,1 결정하는 로직 추가"
      ],
      "metadata": {
        "id": "BktqNQKvdR_l"
      }
    },
    {
      "cell_type": "code",
      "source": [
        "pred_probs = xgb_model.predict(dtest)\n",
        "print('predict() 수행 결괏값을 10개만 표시, 예측 확률값으로 표시됨')\n",
        "print(np.round(pred_probs[:10],3))\n",
        "\n",
        "# 에측 확률이 0.5보다 크면 1, 그렇지 않으면 0으로 예측값 결정해 리스트 객체인 preds에 저장\n",
        "preds = [1 if x>0.5 else 0 for x in pred_probs]\n",
        "print('예측값 10개만 표시:', preds[:10])"
      ],
      "metadata": {
        "colab": {
          "base_uri": "https://localhost:8080/"
        },
        "id": "YwWTuTwOdIrV",
        "outputId": "6eb96b15-50af-46fb-ea56-99cc29fa4a3d"
      },
      "execution_count": 9,
      "outputs": [
        {
          "output_type": "stream",
          "name": "stdout",
          "text": [
            "predict() 수행 결괏값을 10개만 표시, 예측 확률값으로 표시됨\n",
            "[0.934 0.003 0.91  0.094 0.993 1.    1.    0.999 0.997 0.   ]\n",
            "예측값 10개만 표시: [1, 0, 1, 0, 1, 1, 1, 1, 1, 0]\n"
          ]
        }
      ]
    },
    {
      "cell_type": "markdown",
      "source": [
        "(7) get_clf_eval() 함수 적용해 XGBoost 모델의 예측 성능 평가"
      ],
      "metadata": {
        "id": "QpXriHQrdbAP"
      }
    },
    {
      "cell_type": "code",
      "source": [
        "from sklearn.metrics import accuracy_score, confusion_matrix, precision_score\n",
        "from sklearn.metrics import recall_score, f1_score, roc_auc_score\n",
        "\n",
        "def get_clf_eval(y_test, pred=None, pred_proba=None):\n",
        "  confusion = confusion_matrix(y_test, pred)\n",
        "  accuracy = accuracy_score(y_test, pred)\n",
        "  precision = precision_score(y_test, pred)\n",
        "  recall = recall_score(y_test, pred)\n",
        "  f1 = f1_score(y_test, pred)\n",
        "  # ROC-AUC 추가\n",
        "  roc_auc = roc_auc_score(y_test, pred_proba)\n",
        "  print('오차 행렬')\n",
        "  print(confusion)\n",
        "  # ROC-AUC print 추가\n",
        "  print('정확도: {0:.4f}, 정밀도: {1:.4f}, 재현율: {2:.4f},\\\n",
        "  F1: {3:.4f}, AUC:{4:.4f}'.format(accuracy, precision, recall, f1, roc_auc))"
      ],
      "metadata": {
        "id": "7bh60xN3daFI"
      },
      "execution_count": 10,
      "outputs": []
    },
    {
      "cell_type": "code",
      "source": [
        "get_clf_eval(y_test, preds, pred_probs)"
      ],
      "metadata": {
        "colab": {
          "base_uri": "https://localhost:8080/"
        },
        "id": "JGn4vozydc0-",
        "outputId": "09746ed2-a578-41cf-cde0-9b289094a076"
      },
      "execution_count": 11,
      "outputs": [
        {
          "output_type": "stream",
          "name": "stdout",
          "text": [
            "오차 행렬\n",
            "[[35  2]\n",
            " [ 1 76]]\n",
            "정확도: 0.9737, 정밀도: 0.9744, 재현율: 0.9870,  F1: 0.9806, AUC:0.9951\n"
          ]
        }
      ]
    },
    {
      "cell_type": "markdown",
      "source": [
        "(8) plot_importance()를 이용한 시각화\n",
        "\n",
        "* 피처의 중요도를 막대그래프 형식으로 나타내\n",
        "* 기본 평가 지표로 f1 스코어 기반\n",
        "\n",
        "\n",
        "-> 피처명을 제대로 알 수가 없으므로 f0, f1와 같이 피처 순서별로 f자 뒤에 순서를 붙여서 X축에 피처들로 나열"
      ],
      "metadata": {
        "id": "UBcPqw10diAl"
      }
    },
    {
      "cell_type": "code",
      "source": [
        "from xgboost import plot_importance\n",
        "import matplotlib.pyplot as plt\n",
        "%matplotlib inline\n",
        "\n",
        "fig, ax = plt.subplots(figsize=(10,12))\n",
        "plot_importance(xgb_model, ax=ax)"
      ],
      "metadata": {
        "colab": {
          "base_uri": "https://localhost:8080/",
          "height": 1000
        },
        "id": "rm7r4rnwdd9u",
        "outputId": "4df565ed-5491-473f-fb60-2533b239dfbb"
      },
      "execution_count": 12,
      "outputs": [
        {
          "output_type": "execute_result",
          "data": {
            "text/plain": [
              "<Axes: title={'center': 'Feature importance'}, xlabel='F score', ylabel='Features'>"
            ]
          },
          "metadata": {},
          "execution_count": 12
        },
        {
          "output_type": "display_data",
          "data": {
            "text/plain": [
              "<Figure size 1000x1200 with 1 Axes>"
            ],
            "image/png": "[encoded data removed]"
          },
          "metadata": {}
        }
      ]
    },
    {
      "cell_type": "markdown",
      "source": [
        "* 결정 트리에서 보여준 트리 기반 규칙 구조도 xgboost에서 to_graphviz() API 이용해 시각화 가능\n",
        "\n",
        "  -> 파라미터로 학습이 완료된 모델 객체와 Graphviz가 참조할 파일명 입력\n",
        "* 데이터 세트에 대한 교차 검증 수행 후 최적 파라미터를 구할 수 있는 방법을 cv() API로 제공(반환값은 DataFrame 형태)\n",
        "\n",
        "\n",
        "\n",
        "```\n",
        "xgboost.cv(params, dtrain, num_boost_round=10, nfold=3, stratified=False, folds=None, metrics=(), \n",
        "obj=None, feval=None, maximize=False, early_stopping_rounds=None, fpreproc=None, as_pandas=True, \n",
        "verbose_eval=None, show_stdv=True, seed=0, callbacks=None, shuffle=True)\n",
        "```\n",
        "\n"
      ],
      "metadata": {
        "id": "SBzclqYbdtai"
      }
    },
    {
      "cell_type": "markdown",
      "source": [
        "## **4. 사이킷런 래퍼 XGBoost의 개요 및 적용** \n",
        "\n",
        "사이킷런의 프레임워크와 연동하기 위해 사이킷런 전용의 XGBoost 래퍼 클래스 개발\n",
        "\n",
        "* 분류를 위한 래퍼 클래스 XGBClassifier\n",
        "* 회귀를 위한 래퍼 클래스 XGBRegressor\n",
        "\n"
      ],
      "metadata": {
        "id": "VHSNsR9yd_B2"
      }
    },
    {
      "cell_type": "markdown",
      "source": [
        "(1)  XGBClassifier 이용"
      ],
      "metadata": {
        "id": "oC1piNj-eQ9q"
      }
    },
    {
      "cell_type": "code",
      "source": [
        "# 사이킷런 래퍼 XGBoost 클래스인 XGBClassifier 임포트\n",
        "from xgboost import XGBClassifier\n",
        "\n",
        "xgb_wrapper = XGBClassifier(n_estimators=400, learning_rate=0.1, max_depth=3)\n",
        "xgb_wrapper.fit(X_train, y_train)\n",
        "w_preds = xgb_wrapper.predict(X_test)\n",
        "w_pred_proba = xgb_wrapper.predict_proba(X_test)[:, 1]\n",
        "\n",
        "get_clf_eval(y_test, w_preds, w_pred_proba)"
      ],
      "metadata": {
        "colab": {
          "base_uri": "https://localhost:8080/"
        },
        "id": "4xlj__pidsSS",
        "outputId": "58a54831-b5ad-4062-d55c-e945045a197c"
      },
      "execution_count": 13,
      "outputs": [
        {
          "output_type": "stream",
          "name": "stdout",
          "text": [
            "오차 행렬\n",
            "[[35  2]\n",
            " [ 1 76]]\n",
            "정확도: 0.9737, 정밀도: 0.9744, 재현율: 0.9870,  F1: 0.9806, AUC:0.9951\n"
          ]
        }
      ]
    },
    {
      "cell_type": "markdown",
      "source": [
        "(2) get_clf_eval() 이용해 모델 예측 성능 평가"
      ],
      "metadata": {
        "id": "lj06ZLO9eVtH"
      }
    },
    {
      "cell_type": "code",
      "source": [
        "get_clf_eval(y_test, w_preds, w_pred_proba)"
      ],
      "metadata": {
        "colab": {
          "base_uri": "https://localhost:8080/"
        },
        "id": "dcpp1gd9eK-n",
        "outputId": "cedba173-c2c3-4044-e7df-3b51562fce7a"
      },
      "execution_count": 14,
      "outputs": [
        {
          "output_type": "stream",
          "name": "stdout",
          "text": [
            "오차 행렬\n",
            "[[35  2]\n",
            " [ 1 76]]\n",
            "정확도: 0.9737, 정밀도: 0.9744, 재현율: 0.9870,  F1: 0.9806, AUC:0.9951\n"
          ]
        }
      ]
    },
    {
      "cell_type": "markdown",
      "source": [
        "* 조기 중단 수행 가능 - 조기 중단 관련 파라미터를 fit()에 입력\n",
        "\n",
        "  * early_stopping_rounds : 평가 지표가 향상될 수 있는 반복 횟수\n",
        "  * eval_metric : 조기 중단을 위한 평가 지표\n",
        "  * eval_set : 성능 평가 수행할 데이터 세트(학습 데이터가 아닌 별도의 데이터 세트)"
      ],
      "metadata": {
        "id": "P0NvVOpFeaIw"
      }
    },
    {
      "cell_type": "code",
      "source": [
        "from xgboost import XGBClassifier\n",
        "\n",
        "xgb_wrapper = XGBClassifier(n_estimators=400, learning_rate=0.1, max_depth=3)\n",
        "evals=[(X_test, y_test)]\n",
        "xgb_wrapper.fit(X_train, y_train, early_stopping_rounds=100, eval_metric=\"logloss\", eval_set=evals, verbose=True)\n",
        "ws100_preds = xgb_wrapper.predict(X_test)\n",
        "ws100_pred_proba = xgb_wrapper.predict_proba(X_test)[:,1]"
      ],
      "metadata": {
        "colab": {
          "base_uri": "https://localhost:8080/"
        },
        "id": "UnfLKSm1eXwi",
        "outputId": "f69ed0ea-8153-403d-f794-2df437d88260"
      },
      "execution_count": 15,
      "outputs": [
        {
          "output_type": "stream",
          "name": "stdout",
          "text": [
            "[0]\tvalidation_0-logloss:0.61352\n",
            "[1]\tvalidation_0-logloss:0.54784\n",
            "[2]\tvalidation_0-logloss:0.49425\n",
            "[3]\tvalidation_0-logloss:0.44799\n",
            "[4]\tvalidation_0-logloss:0.40911\n",
            "[5]\tvalidation_0-logloss:0.37498\n",
            "[6]\tvalidation_0-logloss:0.34571\n",
            "[7]\tvalidation_0-logloss:0.32053\n",
            "[8]\tvalidation_0-logloss:0.29721\n",
            "[9]\tvalidation_0-logloss:0.27799\n",
            "[10]\tvalidation_0-logloss:0.26030\n",
            "[11]\tvalidation_0-logloss:0.24604\n",
            "[12]\tvalidation_0-logloss:0.23156\n",
            "[13]\tvalidation_0-logloss:0.22005\n",
            "[14]\tvalidation_0-logloss:0.20857\n",
            "[15]\tvalidation_0-logloss:0.19999\n",
            "[16]\tvalidation_0-logloss:0.19012\n",
            "[17]\tvalidation_0-logloss:0.18182\n",
            "[18]\tvalidation_0-logloss:0.17473\n",
            "[19]\tvalidation_0-logloss:0.16766\n",
            "[20]\tvalidation_0-logloss:0.15820\n",
            "[21]\tvalidation_0-logloss:0.15472\n",
            "[22]\tvalidation_0-logloss:0.14895\n",
            "[23]\tvalidation_0-logloss:0.14331\n",
            "[24]\tvalidation_0-logloss:0.13634\n",
            "[25]\tvalidation_0-logloss:0.13278\n",
            "[26]\tvalidation_0-logloss:0.12791\n",
            "[27]\tvalidation_0-logloss:0.12526\n",
            "[28]\tvalidation_0-logloss:0.11998\n",
            "[29]\tvalidation_0-logloss:0.11641\n",
            "[30]\tvalidation_0-logloss:0.11450\n",
            "[31]\tvalidation_0-logloss:0.11257\n",
            "[32]\tvalidation_0-logloss:0.11154\n",
            "[33]\tvalidation_0-logloss:0.10868\n",
            "[34]\tvalidation_0-logloss:0.10668\n",
            "[35]\tvalidation_0-logloss:0.10421\n",
            "[36]\tvalidation_0-logloss:0.10296\n",
            "[37]\tvalidation_0-logloss:0.10058\n",
            "[38]\tvalidation_0-logloss:0.09868\n",
            "[39]\tvalidation_0-logloss:0.09644\n",
            "[40]\tvalidation_0-logloss:0.09587\n",
            "[41]\tvalidation_0-logloss:0.09424\n",
            "[42]\tvalidation_0-logloss:0.09471\n",
            "[43]\tvalidation_0-logloss:0.09427\n",
            "[44]\tvalidation_0-logloss:0.09389\n",
            "[45]\tvalidation_0-logloss:0.09418\n",
            "[46]\tvalidation_0-logloss:0.09402\n",
            "[47]\tvalidation_0-logloss:0.09236\n",
            "[48]\tvalidation_0-logloss:0.09301\n",
            "[49]\tvalidation_0-logloss:0.09127\n",
            "[50]\tvalidation_0-logloss:0.09005\n",
            "[51]\tvalidation_0-logloss:0.08961\n",
            "[52]\tvalidation_0-logloss:0.08958\n",
            "[53]\tvalidation_0-logloss:0.09070\n",
            "[54]\tvalidation_0-logloss:0.08958\n",
            "[55]\tvalidation_0-logloss:0.09036\n",
            "[56]\tvalidation_0-logloss:0.09159\n",
            "[57]\tvalidation_0-logloss:0.09153\n",
            "[58]\tvalidation_0-logloss:0.09199\n",
            "[59]\tvalidation_0-logloss:0.09195\n",
            "[60]\tvalidation_0-logloss:0.09194\n",
            "[61]\tvalidation_0-logloss:0.09146\n",
            "[62]\tvalidation_0-logloss:0.09031\n",
            "[63]\tvalidation_0-logloss:0.08941\n",
            "[64]\tvalidation_0-logloss:0.08972\n",
            "[65]\tvalidation_0-logloss:0.08974\n",
            "[66]\tvalidation_0-logloss:0.08962\n",
            "[67]\tvalidation_0-logloss:0.08873\n",
            "[68]\tvalidation_0-logloss:0.08862\n",
            "[69]\tvalidation_0-logloss:0.08974\n",
            "[70]\tvalidation_0-logloss:0.08998\n",
            "[71]\tvalidation_0-logloss:0.08978\n",
            "[72]\tvalidation_0-logloss:0.08958\n",
            "[73]\tvalidation_0-logloss:0.08953\n",
            "[74]\tvalidation_0-logloss:0.08875\n",
            "[75]\tvalidation_0-logloss:0.08860\n",
            "[76]\tvalidation_0-logloss:0.08812\n",
            "[77]\tvalidation_0-logloss:0.08840\n",
            "[78]\tvalidation_0-logloss:0.08874\n",
            "[79]\tvalidation_0-logloss:0.08815\n",
            "[80]\tvalidation_0-logloss:0.08758\n",
            "[81]\tvalidation_0-logloss:0.08741\n",
            "[82]\tvalidation_0-logloss:0.08849\n",
            "[83]\tvalidation_0-logloss:0.08857\n",
            "[84]\tvalidation_0-logloss:0.08807\n",
            "[85]\tvalidation_0-logloss:0.08764\n",
            "[86]\tvalidation_0-logloss:0.08742\n",
            "[87]\tvalidation_0-logloss:0.08761\n",
            "[88]\tvalidation_0-logloss:0.08707\n",
            "[89]\tvalidation_0-logloss:0.08727\n",
            "[90]\tvalidation_0-logloss:0.08716\n",
            "[91]\tvalidation_0-logloss:0.08696\n",
            "[92]\tvalidation_0-logloss:0.08717\n",
            "[93]\tvalidation_0-logloss:0.08707\n",
            "[94]\tvalidation_0-logloss:0.08659\n",
            "[95]\tvalidation_0-logloss:0.08612\n",
            "[96]\tvalidation_0-logloss:0.08714\n",
            "[97]\tvalidation_0-logloss:0.08677\n",
            "[98]\tvalidation_0-logloss:0.08669\n",
            "[99]\tvalidation_0-logloss:0.08655\n",
            "[100]\tvalidation_0-logloss:0.08650\n",
            "[101]\tvalidation_0-logloss:0.08641\n",
            "[102]\tvalidation_0-logloss:0.08629\n",
            "[103]\tvalidation_0-logloss:0.08626\n",
            "[104]\tvalidation_0-logloss:0.08683\n",
            "[105]\tvalidation_0-logloss:0.08677\n",
            "[106]\tvalidation_0-logloss:0.08732\n",
            "[107]\tvalidation_0-logloss:0.08730\n",
            "[108]\tvalidation_0-logloss:0.08728\n",
            "[109]\tvalidation_0-logloss:0.08730\n",
            "[110]\tvalidation_0-logloss:0.08729\n",
            "[111]\tvalidation_0-logloss:0.08800\n",
            "[112]\tvalidation_0-logloss:0.08794\n",
            "[113]\tvalidation_0-logloss:0.08784\n",
            "[114]\tvalidation_0-logloss:0.08807\n",
            "[115]\tvalidation_0-logloss:0.08765\n",
            "[116]\tvalidation_0-logloss:0.08730\n",
            "[117]\tvalidation_0-logloss:0.08780\n",
            "[118]\tvalidation_0-logloss:0.08775\n",
            "[119]\tvalidation_0-logloss:0.08768\n",
            "[120]\tvalidation_0-logloss:0.08763\n",
            "[121]\tvalidation_0-logloss:0.08757\n",
            "[122]\tvalidation_0-logloss:0.08755\n",
            "[123]\tvalidation_0-logloss:0.08716\n",
            "[124]\tvalidation_0-logloss:0.08767\n",
            "[125]\tvalidation_0-logloss:0.08774\n",
            "[126]\tvalidation_0-logloss:0.08827\n",
            "[127]\tvalidation_0-logloss:0.08831\n",
            "[128]\tvalidation_0-logloss:0.08827\n",
            "[129]\tvalidation_0-logloss:0.08789\n",
            "[130]\tvalidation_0-logloss:0.08886\n",
            "[131]\tvalidation_0-logloss:0.08868\n",
            "[132]\tvalidation_0-logloss:0.08874\n",
            "[133]\tvalidation_0-logloss:0.08922\n",
            "[134]\tvalidation_0-logloss:0.08918\n",
            "[135]\tvalidation_0-logloss:0.08882\n",
            "[136]\tvalidation_0-logloss:0.08851\n",
            "[137]\tvalidation_0-logloss:0.08848\n",
            "[138]\tvalidation_0-logloss:0.08839\n",
            "[139]\tvalidation_0-logloss:0.08915\n",
            "[140]\tvalidation_0-logloss:0.08911\n",
            "[141]\tvalidation_0-logloss:0.08876\n",
            "[142]\tvalidation_0-logloss:0.08868\n",
            "[143]\tvalidation_0-logloss:0.08839\n",
            "[144]\tvalidation_0-logloss:0.08927\n",
            "[145]\tvalidation_0-logloss:0.08924\n",
            "[146]\tvalidation_0-logloss:0.08914\n",
            "[147]\tvalidation_0-logloss:0.08891\n",
            "[148]\tvalidation_0-logloss:0.08942\n",
            "[149]\tvalidation_0-logloss:0.08939\n",
            "[150]\tvalidation_0-logloss:0.08911\n",
            "[151]\tvalidation_0-logloss:0.08873\n",
            "[152]\tvalidation_0-logloss:0.08872\n",
            "[153]\tvalidation_0-logloss:0.08848\n",
            "[154]\tvalidation_0-logloss:0.08847\n",
            "[155]\tvalidation_0-logloss:0.08855\n",
            "[156]\tvalidation_0-logloss:0.08852\n",
            "[157]\tvalidation_0-logloss:0.08855\n",
            "[158]\tvalidation_0-logloss:0.08827\n",
            "[159]\tvalidation_0-logloss:0.08830\n",
            "[160]\tvalidation_0-logloss:0.08828\n",
            "[161]\tvalidation_0-logloss:0.08801\n",
            "[162]\tvalidation_0-logloss:0.08776\n",
            "[163]\tvalidation_0-logloss:0.08778\n",
            "[164]\tvalidation_0-logloss:0.08778\n",
            "[165]\tvalidation_0-logloss:0.08752\n",
            "[166]\tvalidation_0-logloss:0.08754\n",
            "[167]\tvalidation_0-logloss:0.08764\n",
            "[168]\tvalidation_0-logloss:0.08739\n",
            "[169]\tvalidation_0-logloss:0.08738\n",
            "[170]\tvalidation_0-logloss:0.08730\n",
            "[171]\tvalidation_0-logloss:0.08737\n",
            "[172]\tvalidation_0-logloss:0.08740\n",
            "[173]\tvalidation_0-logloss:0.08739\n",
            "[174]\tvalidation_0-logloss:0.08713\n",
            "[175]\tvalidation_0-logloss:0.08716\n",
            "[176]\tvalidation_0-logloss:0.08695\n",
            "[177]\tvalidation_0-logloss:0.08705\n",
            "[178]\tvalidation_0-logloss:0.08697\n",
            "[179]\tvalidation_0-logloss:0.08697\n",
            "[180]\tvalidation_0-logloss:0.08704\n",
            "[181]\tvalidation_0-logloss:0.08680\n",
            "[182]\tvalidation_0-logloss:0.08683\n",
            "[183]\tvalidation_0-logloss:0.08658\n",
            "[184]\tvalidation_0-logloss:0.08659\n",
            "[185]\tvalidation_0-logloss:0.08661\n",
            "[186]\tvalidation_0-logloss:0.08637\n",
            "[187]\tvalidation_0-logloss:0.08637\n",
            "[188]\tvalidation_0-logloss:0.08630\n",
            "[189]\tvalidation_0-logloss:0.08610\n",
            "[190]\tvalidation_0-logloss:0.08602\n",
            "[191]\tvalidation_0-logloss:0.08605\n",
            "[192]\tvalidation_0-logloss:0.08615\n",
            "[193]\tvalidation_0-logloss:0.08592\n",
            "[194]\tvalidation_0-logloss:0.08591\n",
            "[195]\tvalidation_0-logloss:0.08598\n",
            "[196]\tvalidation_0-logloss:0.08601\n",
            "[197]\tvalidation_0-logloss:0.08592\n",
            "[198]\tvalidation_0-logloss:0.08585\n",
            "[199]\tvalidation_0-logloss:0.08587\n",
            "[200]\tvalidation_0-logloss:0.08589\n",
            "[201]\tvalidation_0-logloss:0.08595\n",
            "[202]\tvalidation_0-logloss:0.08573\n",
            "[203]\tvalidation_0-logloss:0.08573\n",
            "[204]\tvalidation_0-logloss:0.08575\n",
            "[205]\tvalidation_0-logloss:0.08582\n",
            "[206]\tvalidation_0-logloss:0.08584\n",
            "[207]\tvalidation_0-logloss:0.08578\n",
            "[208]\tvalidation_0-logloss:0.08569\n",
            "[209]\tvalidation_0-logloss:0.08571\n",
            "[210]\tvalidation_0-logloss:0.08581\n",
            "[211]\tvalidation_0-logloss:0.08559\n",
            "[212]\tvalidation_0-logloss:0.08580\n",
            "[213]\tvalidation_0-logloss:0.08581\n",
            "[214]\tvalidation_0-logloss:0.08574\n",
            "[215]\tvalidation_0-logloss:0.08566\n",
            "[216]\tvalidation_0-logloss:0.08584\n",
            "[217]\tvalidation_0-logloss:0.08563\n",
            "[218]\tvalidation_0-logloss:0.08573\n",
            "[219]\tvalidation_0-logloss:0.08578\n",
            "[220]\tvalidation_0-logloss:0.08579\n",
            "[221]\tvalidation_0-logloss:0.08582\n",
            "[222]\tvalidation_0-logloss:0.08576\n",
            "[223]\tvalidation_0-logloss:0.08567\n",
            "[224]\tvalidation_0-logloss:0.08586\n",
            "[225]\tvalidation_0-logloss:0.08587\n",
            "[226]\tvalidation_0-logloss:0.08593\n",
            "[227]\tvalidation_0-logloss:0.08595\n",
            "[228]\tvalidation_0-logloss:0.08587\n",
            "[229]\tvalidation_0-logloss:0.08606\n",
            "[230]\tvalidation_0-logloss:0.08600\n",
            "[231]\tvalidation_0-logloss:0.08592\n",
            "[232]\tvalidation_0-logloss:0.08610\n",
            "[233]\tvalidation_0-logloss:0.08611\n",
            "[234]\tvalidation_0-logloss:0.08617\n",
            "[235]\tvalidation_0-logloss:0.08626\n",
            "[236]\tvalidation_0-logloss:0.08629\n",
            "[237]\tvalidation_0-logloss:0.08622\n",
            "[238]\tvalidation_0-logloss:0.08639\n",
            "[239]\tvalidation_0-logloss:0.08634\n",
            "[240]\tvalidation_0-logloss:0.08618\n",
            "[241]\tvalidation_0-logloss:0.08620\n",
            "[242]\tvalidation_0-logloss:0.08625\n",
            "[243]\tvalidation_0-logloss:0.08626\n",
            "[244]\tvalidation_0-logloss:0.08629\n",
            "[245]\tvalidation_0-logloss:0.08622\n",
            "[246]\tvalidation_0-logloss:0.08640\n",
            "[247]\tvalidation_0-logloss:0.08635\n",
            "[248]\tvalidation_0-logloss:0.08628\n",
            "[249]\tvalidation_0-logloss:0.08645\n",
            "[250]\tvalidation_0-logloss:0.08629\n",
            "[251]\tvalidation_0-logloss:0.08631\n",
            "[252]\tvalidation_0-logloss:0.08636\n",
            "[253]\tvalidation_0-logloss:0.08639\n",
            "[254]\tvalidation_0-logloss:0.08649\n",
            "[255]\tvalidation_0-logloss:0.08644\n",
            "[256]\tvalidation_0-logloss:0.08629\n",
            "[257]\tvalidation_0-logloss:0.08646\n",
            "[258]\tvalidation_0-logloss:0.08639\n",
            "[259]\tvalidation_0-logloss:0.08644\n",
            "[260]\tvalidation_0-logloss:0.08646\n",
            "[261]\tvalidation_0-logloss:0.08649\n",
            "[262]\tvalidation_0-logloss:0.08645\n",
            "[263]\tvalidation_0-logloss:0.08647\n",
            "[264]\tvalidation_0-logloss:0.08632\n",
            "[265]\tvalidation_0-logloss:0.08649\n",
            "[266]\tvalidation_0-logloss:0.08654\n",
            "[267]\tvalidation_0-logloss:0.08647\n",
            "[268]\tvalidation_0-logloss:0.08650\n",
            "[269]\tvalidation_0-logloss:0.08652\n",
            "[270]\tvalidation_0-logloss:0.08669\n",
            "[271]\tvalidation_0-logloss:0.08674\n",
            "[272]\tvalidation_0-logloss:0.08683\n",
            "[273]\tvalidation_0-logloss:0.08668\n",
            "[274]\tvalidation_0-logloss:0.08664\n",
            "[275]\tvalidation_0-logloss:0.08650\n",
            "[276]\tvalidation_0-logloss:0.08635\n",
            "[277]\tvalidation_0-logloss:0.08652\n",
            "[278]\tvalidation_0-logloss:0.08657\n",
            "[279]\tvalidation_0-logloss:0.08659\n",
            "[280]\tvalidation_0-logloss:0.08668\n",
            "[281]\tvalidation_0-logloss:0.08664\n",
            "[282]\tvalidation_0-logloss:0.08650\n",
            "[283]\tvalidation_0-logloss:0.08636\n",
            "[284]\tvalidation_0-logloss:0.08640\n",
            "[285]\tvalidation_0-logloss:0.08643\n",
            "[286]\tvalidation_0-logloss:0.08646\n",
            "[287]\tvalidation_0-logloss:0.08650\n",
            "[288]\tvalidation_0-logloss:0.08637\n",
            "[289]\tvalidation_0-logloss:0.08646\n",
            "[290]\tvalidation_0-logloss:0.08645\n",
            "[291]\tvalidation_0-logloss:0.08632\n",
            "[292]\tvalidation_0-logloss:0.08628\n",
            "[293]\tvalidation_0-logloss:0.08615\n",
            "[294]\tvalidation_0-logloss:0.08620\n",
            "[295]\tvalidation_0-logloss:0.08622\n",
            "[296]\tvalidation_0-logloss:0.08631\n",
            "[297]\tvalidation_0-logloss:0.08618\n",
            "[298]\tvalidation_0-logloss:0.08626\n",
            "[299]\tvalidation_0-logloss:0.08613\n",
            "[300]\tvalidation_0-logloss:0.08618\n",
            "[301]\tvalidation_0-logloss:0.08605\n",
            "[302]\tvalidation_0-logloss:0.08602\n",
            "[303]\tvalidation_0-logloss:0.08610\n",
            "[304]\tvalidation_0-logloss:0.08598\n",
            "[305]\tvalidation_0-logloss:0.08606\n",
            "[306]\tvalidation_0-logloss:0.08597\n",
            "[307]\tvalidation_0-logloss:0.08600\n",
            "[308]\tvalidation_0-logloss:0.08600\n",
            "[309]\tvalidation_0-logloss:0.08588\n",
            "[310]\tvalidation_0-logloss:0.08592\n",
            "[311]\tvalidation_0-logloss:0.08595\n"
          ]
        }
      ]
    },
    {
      "cell_type": "markdown",
      "source": [
        "-> 311번 반복후 학습 완료됨\n",
        "\n",
        "-> 211번 반복 시 logloss 0.085593, 311번 반복 시 logloss 0.085948. early_stopping_round로 지정된 100번 반복 동안 성능 평가 지수가 향상되지 않았음"
      ],
      "metadata": {
        "id": "8sXtaedleinl"
      }
    },
    {
      "cell_type": "code",
      "source": [
        "get_clf_eval(y_test, ws100_preds, ws100_pred_proba)"
      ],
      "metadata": {
        "colab": {
          "base_uri": "https://localhost:8080/"
        },
        "id": "TDtCXFYUeeXZ",
        "outputId": "c6e5c0dc-e6e9-40ae-dbe3-3abf4acfa201"
      },
      "execution_count": 16,
      "outputs": [
        {
          "output_type": "stream",
          "name": "stdout",
          "text": [
            "오차 행렬\n",
            "[[34  3]\n",
            " [ 1 76]]\n",
            "정확도: 0.9649, 정밀도: 0.9620, 재현율: 0.9870,  F1: 0.9744, AUC:0.9954\n"
          ]
        }
      ]
    },
    {
      "cell_type": "markdown",
      "source": [
        "* 조기 중단값을 너무 급격하게 줄이면 아직 성능이 향상될 여지가 있음에도 불구하고 반복 멈춰버려 예측 성능 저하될 우려가 있음"
      ],
      "metadata": {
        "id": "5KPvCboYeqU1"
      }
    },
    {
      "cell_type": "code",
      "source": [
        " # early_stopping_rounds를 10으로 설정하고 재 학습.\n",
        "xgb_wrapper.fit(X_train, y_train, early_stopping_rounds=10, eval_metric=\"logloss\", eval_set=evals, verbose=True)\n",
        "\n",
        "ws10_preds = xgb_wrapper.predict(X_test)\n",
        "ws10_pred_proba = xgb_wrapper.predict_proba(X_test)[:,1]\n",
        "get_clf_eval(y_test, ws10_preds, ws10_pred_proba)"
      ],
      "metadata": {
        "colab": {
          "base_uri": "https://localhost:8080/"
        },
        "id": "_0qzBz-5en_D",
        "outputId": "f0cbcbde-919b-4816-8443-df3b0786ec62"
      },
      "execution_count": 17,
      "outputs": [
        {
          "output_type": "stream",
          "name": "stdout",
          "text": [
            "[0]\tvalidation_0-logloss:0.61352\n",
            "[1]\tvalidation_0-logloss:0.54784\n",
            "[2]\tvalidation_0-logloss:0.49425\n",
            "[3]\tvalidation_0-logloss:0.44799\n",
            "[4]\tvalidation_0-logloss:0.40911\n",
            "[5]\tvalidation_0-logloss:0.37498\n",
            "[6]\tvalidation_0-logloss:0.34571\n",
            "[7]\tvalidation_0-logloss:0.32053\n",
            "[8]\tvalidation_0-logloss:0.29721\n",
            "[9]\tvalidation_0-logloss:0.27799\n",
            "[10]\tvalidation_0-logloss:0.26030\n",
            "[11]\tvalidation_0-logloss:0.24604\n",
            "[12]\tvalidation_0-logloss:0.23156\n",
            "[13]\tvalidation_0-logloss:0.22005\n",
            "[14]\tvalidation_0-logloss:0.20857\n",
            "[15]\tvalidation_0-logloss:0.19999\n",
            "[16]\tvalidation_0-logloss:0.19012\n",
            "[17]\tvalidation_0-logloss:0.18182\n",
            "[18]\tvalidation_0-logloss:0.17473\n",
            "[19]\tvalidation_0-logloss:0.16766\n",
            "[20]\tvalidation_0-logloss:0.15820\n",
            "[21]\tvalidation_0-logloss:0.15472\n",
            "[22]\tvalidation_0-logloss:0.14895\n",
            "[23]\tvalidation_0-logloss:0.14331\n",
            "[24]\tvalidation_0-logloss:0.13634\n",
            "[25]\tvalidation_0-logloss:0.13278\n",
            "[26]\tvalidation_0-logloss:0.12791\n",
            "[27]\tvalidation_0-logloss:0.12526\n",
            "[28]\tvalidation_0-logloss:0.11998\n",
            "[29]\tvalidation_0-logloss:0.11641\n",
            "[30]\tvalidation_0-logloss:0.11450\n",
            "[31]\tvalidation_0-logloss:0.11257\n",
            "[32]\tvalidation_0-logloss:0.11154\n",
            "[33]\tvalidation_0-logloss:0.10868\n",
            "[34]\tvalidation_0-logloss:0.10668\n",
            "[35]\tvalidation_0-logloss:0.10421\n",
            "[36]\tvalidation_0-logloss:0.10296\n",
            "[37]\tvalidation_0-logloss:0.10058\n",
            "[38]\tvalidation_0-logloss:0.09868\n",
            "[39]\tvalidation_0-logloss:0.09644\n",
            "[40]\tvalidation_0-logloss:0.09587\n",
            "[41]\tvalidation_0-logloss:0.09424\n",
            "[42]\tvalidation_0-logloss:0.09471\n",
            "[43]\tvalidation_0-logloss:0.09427\n",
            "[44]\tvalidation_0-logloss:0.09389\n",
            "[45]\tvalidation_0-logloss:0.09418\n",
            "[46]\tvalidation_0-logloss:0.09402\n",
            "[47]\tvalidation_0-logloss:0.09236\n",
            "[48]\tvalidation_0-logloss:0.09301\n",
            "[49]\tvalidation_0-logloss:0.09127\n",
            "[50]\tvalidation_0-logloss:0.09005\n",
            "[51]\tvalidation_0-logloss:0.08961\n",
            "[52]\tvalidation_0-logloss:0.08958\n",
            "[53]\tvalidation_0-logloss:0.09070\n",
            "[54]\tvalidation_0-logloss:0.08958\n",
            "[55]\tvalidation_0-logloss:0.09036\n",
            "[56]\tvalidation_0-logloss:0.09159\n",
            "[57]\tvalidation_0-logloss:0.09153\n",
            "[58]\tvalidation_0-logloss:0.09199\n",
            "[59]\tvalidation_0-logloss:0.09195\n",
            "[60]\tvalidation_0-logloss:0.09194\n",
            "[61]\tvalidation_0-logloss:0.09146\n",
            "오차 행렬\n",
            "[[34  3]\n",
            " [ 2 75]]\n",
            "정확도: 0.9561, 정밀도: 0.9615, 재현율: 0.9740,  F1: 0.9677, AUC:0.9947\n"
          ]
        }
      ]
    },
    {
      "cell_type": "markdown",
      "source": [
        "->  62번 반복 logloss 0.090311, 52번 반복 logloss 0.089577\n",
        "\n",
        "->  10번의 반복 동안 성능 평가 지수 향상되지 못해 반복 수행하지 않고 학습 종료"
      ],
      "metadata": {
        "id": "E0_91Uz0ewh3"
      }
    },
    {
      "cell_type": "markdown",
      "source": [
        "->  정확도 약 0.9561. early_stopping_rounds=100일 떄의 약 0.9649보다 낮음"
      ],
      "metadata": {
        "id": "mEJmTrA8eyPX"
      }
    },
    {
      "cell_type": "markdown",
      "source": [
        " (3) plot_importance() 시각화"
      ],
      "metadata": {
        "id": "eRt4y1Kae5Kf"
      }
    },
    {
      "cell_type": "code",
      "source": [
        "from xgboost import plot_importance\n",
        "import matplotlib.pyplot as plt\n",
        "%matplotlib inline\n",
        "\n",
        "fig, ax = plt.subplots(figsize=(10,12))\n",
        "# 사이킷런 Wrapper 클래스를 입력해도 무방.\n",
        "plot_importance(xgb_wrapper, ax=ax)"
      ],
      "metadata": {
        "colab": {
          "base_uri": "https://localhost:8080/",
          "height": 1000
        },
        "id": "lZIsqCP_etzj",
        "outputId": "99660b7a-447c-4971-b62a-424a84b421f5"
      },
      "execution_count": 18,
      "outputs": [
        {
          "output_type": "execute_result",
          "data": {
            "text/plain": [
              "<Axes: title={'center': 'Feature importance'}, xlabel='F score', ylabel='Features'>"
            ]
          },
          "metadata": {},
          "execution_count": 18
        },
        {
          "output_type": "display_data",
          "data": {
            "text/plain": [
              "<Figure size 1000x1200 with 1 Axes>"
            ],
            "image/png": "[encoded data removed]"
          },
          "metadata": {}
        }
      ]
    },
    {
      "cell_type": "markdown",
      "source": [
        "## 7. LightGBM\n",
        "\n",
        " XGBoost와 함께 부스팅 계열 알고리즘에서 가장 주목받고 있음\n",
        "\n",
        "<LightGBM 장점>\n",
        "\n",
        "* 더 빠른 학습과 예측 수행 시간.\n",
        "\n",
        "* 더 작은 메모리 사용량\n",
        "\n",
        "* 카테고리형 피처의 자동 변환과 최적 분할\n",
        "\n",
        "* 대용량 데이터에 대한 뛰어난 예측 성능 및 병렬 컴퓨팅 기능 제공 + GPU까지 지원\n",
        "\n",
        "<LightGBM 단점>\n",
        "\n",
        "* 적은 데이터 세트에 적용할 경우 과적합 발생 쉬워(일반적으로 10000건 이하의 데이터 세트 정도)\n",
        "\n",
        "\n",
        "<LightGBM 특징>\n",
        "* 일반 GBM 계열의 트리 분할 방법과 다르게, 리프 중심 트리 분할(Leaf Wise) 방식 사용\n",
        "  \n",
        "  -> 트리의 균형을 맞추지 않고, 최대 손실 값(max delta loss)을 가지는 리프 노드를 지속적으로 분할하면서 트리의 깊이가 깊어지고 비대칭적인 규칙 트리가 생성됨\n",
        "  \n",
        "   -> 하지만 이렇게 최대 손실값을 가지는 리프 노드를 지속적으로 분할해 생성된 규칙 트리는 학습을 반복할수록 결국은 균형 트리 분할 방식보다 예측 오류 손실을 최소화 할 수 있다는 것이 LightGBM의 구현 사상"
      ],
      "metadata": {
        "id": "gUFAQYRVe-pj"
      }
    },
    {
      "cell_type": "markdown",
      "source": [
        "### **1) LightGBM 하이퍼 파라미터**\n",
        "\n",
        "* num_iterations[default=100]\n",
        "\n",
        "  -> 반복 수행하려는 트리의 개수 지정, 크게 지정할수록 예측 성능 높아질 수 있으나 너무 크게 지정하면 오히려 과적합으로 성능 저하될 수 있음\n",
        "  \n",
        "  -> 사이킷런 GBM과 XGBoost의 사이킷런 호환 클래스의 n_estimators와 같은 파라미터이므로 LightGBM의 사이킷런 호환 클래스에서는 n_estimators로 이름 변경됨\n",
        "\n",
        "* learning_rate[default=0.1]\n",
        "\n",
        "  -> 0에서 1 사이의 값을 지정하며 부스팅 스텝을 반복적으로 수행할 때 업데이트되는 학습률 값, 일반적으로 n_estimators를 크게 하고 learning_rate를 작게 해서 예측 성능을 향상시킬 수 있으나, 마찬가지로 과적합 이슈와 학습 시간이 길어지는 부정적인 영향도 고려해야 함\n",
        "  \n",
        "  -> GBM, XGBoost의 learning_rate와 같은 파라미터\n",
        "\n",
        "* max_depth[default=-1]\n",
        "\n",
        "  -> 트리 기반 알고리즘의 max_depth와 같음, 0보다 작은 값을 지정하면 깊이에 제한이 없음\n",
        "  \n",
        "  -> 지금까지 소개한 Depth wise 방식의 트리와 다르게 LightGBM은 Leaf wise 기반이므로 깊이가 상대적으로 더 깊음\n",
        "\n",
        "* min_data_in_leaf[default=20]: \n",
        "\n",
        "  -> 결정 트리의 min_samples_leaf와 같은 파라미터, 하지만 사이킷런 래퍼 LightGBM 클래스인 LightGBMClassifier에서는 min_child_samples 파라미터로 이름 변경됨\n",
        "  \n",
        "  -> 최종 결정 클래스인 리프 노드가 되기 위해서 최소한으로 필요한 레코드 수이며, 과적합을 제어하기 위한 파라미터임\n",
        "\n",
        "* num_leaves[default=31]\n",
        "\n",
        "  -> 하나의 트리가 가질 수 있는 최대 리프 개수\n",
        "\n",
        "* boosting[default=gbdt]\n",
        "\n",
        "  -> 부스팅의 트리를 생성하는 알고리즘을 기술\n",
        "\n",
        "* bagging_fraction[default=1.0]\n",
        "\n",
        "  -> 트리가 커져서 과적하보디는 것을 제어하기 위해서 데이터를 샘플링하는 비율을 지정,\n",
        "  \n",
        "  -> 사이킷런의 GBM과 XGBVlassifier의 subsample 파라미터와 동일하기에 사이킷런 래퍼 LightGBM인 LightGBMClassifier에서는 subsample로 동일하게 파라미터 이름이 변경됨\n",
        "\n",
        "* feature_fraction[default=1.0]\n",
        "\n",
        " -> 개별 트리를 학습할 때마다 무작위로 선택하는 피처의 비율, 과적합을 막기 위해 사용됨\n",
        " \n",
        " ->  GBM의 max_features와 유사하며, XGBClassifier의 colsample_bytree와 똑같으므로 LightGBMClassifier에서는 동일하게 colsample_bytree로 변경됨\n",
        "\n",
        "* lambda_l2[default=0.0]\n",
        "\n",
        " -> L2 regulation 제어를 위한 값, 피처 개수가 많을 경우 적용을 검토하며 값이 클수록 과적합 감소 효과가 있음\n",
        " \n",
        " -> XGBClassifier의 reg_lambda와 동일하므로 LightGBMClassifier에서는 reg_lambda로 변경됨\n",
        "\n",
        "* lambda_l1[default=0.0]\n",
        "\n",
        " ->  L1 regulation 제어를 위한 값, L2와 마찬가지로 과적합 제어를 위한 것이며, XGBClassifier의 reg_alpha와 동일하므로 LightGBMClassifier에서는 reg_alpha로 변경됨\n"
      ],
      "metadata": {
        "id": "iuOis_6GfsyB"
      }
    },
    {
      "cell_type": "markdown",
      "source": [
        "<하이퍼 파라미터 튜닝 방안>\n",
        "\n",
        "* num_leaves의 개수를 중심으로 min_child_samples(min_data_in_leaf), max_depth 함께 조정하면서 모델의 복잡도 줄이는 것\n",
        "\n",
        "* learning_rate 작게 하면서 n_estimators 크게 하는 것\n",
        "\n",
        "* 과적합 제어 위해 reg_lambda, reg_alpha와 같은 regularization 적용\n",
        "\n"
      ],
      "metadata": {
        "id": "1B8Yj71jgXGW"
      }
    },
    {
      "cell_type": "markdown",
      "source": [
        "## **2) LigthGBM 적용 - 위스콘신 유방암 예측**"
      ],
      "metadata": {
        "id": "hQmBygsNgfB9"
      }
    },
    {
      "cell_type": "code",
      "source": [
        "# LightGBM의 파이썬 패키지인 lightgbm에서 LGBMClassifier 임포트\n",
        "from lightgbm import LGBMClassifier\n",
        "\n",
        "import pandas as pd\n",
        "import numpy as np\n",
        "from sklearn.datasets import load_breast_cancer\n",
        "from sklearn.model_selection import train_test_split\n",
        "\n",
        "dataset = load_breast_cancer()\n",
        "ftr = dataset.data\n",
        "target = dataset.target\n",
        "\n",
        "# 전체 데이터 중 80%는 학습용 데이터, 20%는 테스트용 데이터 추출\n",
        "X_train, X_test , y_train, y_test = train_test_split(ftr, target, test_size=0.2, random_state=156)\n",
        "\n",
        "# 앞서 XGBoost와 동일하게 n_estimators는 400 설정.\n",
        "lgbm_wrapper = LGBMClassifier(n_estimators=400)\n",
        "\n",
        "# LigthGBM도 XGBoost와 동일하게 조기 중단 수행 가능.\n",
        "evals = [(X_test, y_test)]\n",
        "lgbm_wrapper.fit(X_train, y_train, early_stopping_rounds=100, eval_metric=\"logloss\", eval_set=evals, verbose=True)\n",
        "preds = lgbm_wrapper.predict(X_test)\n",
        "pred_proba = lgbm_wrapper.predict_proba(X_test)[:,1]"
      ],
      "metadata": {
        "colab": {
          "base_uri": "https://localhost:8080/"
        },
        "id": "h7FOimUue9lC",
        "outputId": "935bafae-e068-4fb6-a8f9-32b7f47eef27"
      },
      "execution_count": 19,
      "outputs": [
        {
          "output_type": "stream",
          "name": "stdout",
          "text": [
            "[1]\tvalid_0's binary_logloss: 0.565079\n",
            "[2]\tvalid_0's binary_logloss: 0.507451\n",
            "[3]\tvalid_0's binary_logloss: 0.458489\n",
            "[4]\tvalid_0's binary_logloss: 0.417481\n",
            "[5]\tvalid_0's binary_logloss: 0.385507\n",
            "[6]\tvalid_0's binary_logloss: 0.355773\n",
            "[7]\tvalid_0's binary_logloss: 0.329587\n",
            "[8]\tvalid_0's binary_logloss: 0.308478\n",
            "[9]\tvalid_0's binary_logloss: 0.285395\n",
            "[10]\tvalid_0's binary_logloss: 0.267055\n",
            "[11]\tvalid_0's binary_logloss: 0.252013\n",
            "[12]\tvalid_0's binary_logloss: 0.237018\n",
            "[13]\tvalid_0's binary_logloss: 0.224756\n",
            "[14]\tvalid_0's binary_logloss: 0.213383\n",
            "[15]\tvalid_0's binary_logloss: 0.203058\n",
            "[16]\tvalid_0's binary_logloss: 0.194015\n",
            "[17]\tvalid_0's binary_logloss: 0.186412\n",
            "[18]\tvalid_0's binary_logloss: 0.179108\n",
            "[19]\tvalid_0's binary_logloss: 0.174004\n",
            "[20]\tvalid_0's binary_logloss: 0.167155\n",
            "[21]\tvalid_0's binary_logloss: 0.162494\n",
            "[22]\tvalid_0's binary_logloss: 0.156886\n",
            "[23]\tvalid_0's binary_logloss: 0.152855\n",
            "[24]\tvalid_0's binary_logloss: 0.151113\n",
            "[25]\tvalid_0's binary_logloss: 0.148395\n",
            "[26]\tvalid_0's binary_logloss: 0.145869\n",
            "[27]\tvalid_0's binary_logloss: 0.143036\n",
            "[28]\tvalid_0's binary_logloss: 0.14033\n",
            "[29]\tvalid_0's binary_logloss: 0.139609\n",
            "[30]\tvalid_0's binary_logloss: 0.136109\n",
            "[31]\tvalid_0's binary_logloss: 0.134867\n",
            "[32]\tvalid_0's binary_logloss: 0.134729\n",
            "[33]\tvalid_0's binary_logloss: 0.1311\n",
            "[34]\tvalid_0's binary_logloss: 0.131143\n",
            "[35]\tvalid_0's binary_logloss: 0.129435\n",
            "[36]\tvalid_0's binary_logloss: 0.128474\n",
            "[37]\tvalid_0's binary_logloss: 0.126683\n",
            "[38]\tvalid_0's binary_logloss: 0.126112\n",
            "[39]\tvalid_0's binary_logloss: 0.122831\n",
            "[40]\tvalid_0's binary_logloss: 0.123162\n",
            "[41]\tvalid_0's binary_logloss: 0.125592\n",
            "[42]\tvalid_0's binary_logloss: 0.128293\n",
            "[43]\tvalid_0's binary_logloss: 0.128123\n",
            "[44]\tvalid_0's binary_logloss: 0.12789\n",
            "[45]\tvalid_0's binary_logloss: 0.122818\n",
            "[46]\tvalid_0's binary_logloss: 0.12496\n",
            "[47]\tvalid_0's binary_logloss: 0.125578\n",
            "[48]\tvalid_0's binary_logloss: 0.127381\n",
            "[49]\tvalid_0's binary_logloss: 0.128349\n",
            "[50]\tvalid_0's binary_logloss: 0.127004\n",
            "[51]\tvalid_0's binary_logloss: 0.130288\n",
            "[52]\tvalid_0's binary_logloss: 0.131362\n",
            "[53]\tvalid_0's binary_logloss: 0.133363\n",
            "[54]\tvalid_0's binary_logloss: 0.1332\n",
            "[55]\tvalid_0's binary_logloss: 0.134543\n",
            "[56]\tvalid_0's binary_logloss: 0.130803\n",
            "[57]\tvalid_0's binary_logloss: 0.130306\n",
            "[58]\tvalid_0's binary_logloss: 0.132514\n",
            "[59]\tvalid_0's binary_logloss: 0.133278\n",
            "[60]\tvalid_0's binary_logloss: 0.134804\n",
            "[61]\tvalid_0's binary_logloss: 0.136888\n",
            "[62]\tvalid_0's binary_logloss: 0.138745\n",
            "[63]\tvalid_0's binary_logloss: 0.140497\n",
            "[64]\tvalid_0's binary_logloss: 0.141368\n",
            "[65]\tvalid_0's binary_logloss: 0.140764\n",
            "[66]\tvalid_0's binary_logloss: 0.14348\n",
            "[67]\tvalid_0's binary_logloss: 0.143418\n",
            "[68]\tvalid_0's binary_logloss: 0.143682\n",
            "[69]\tvalid_0's binary_logloss: 0.145076\n",
            "[70]\tvalid_0's binary_logloss: 0.14686\n",
            "[71]\tvalid_0's binary_logloss: 0.148051\n",
            "[72]\tvalid_0's binary_logloss: 0.147664\n",
            "[73]\tvalid_0's binary_logloss: 0.149478\n",
            "[74]\tvalid_0's binary_logloss: 0.14708\n",
            "[75]\tvalid_0's binary_logloss: 0.14545\n",
            "[76]\tvalid_0's binary_logloss: 0.148767\n",
            "[77]\tvalid_0's binary_logloss: 0.149959\n",
            "[78]\tvalid_0's binary_logloss: 0.146083\n",
            "[79]\tvalid_0's binary_logloss: 0.14638\n",
            "[80]\tvalid_0's binary_logloss: 0.148461\n",
            "[81]\tvalid_0's binary_logloss: 0.15091\n",
            "[82]\tvalid_0's binary_logloss: 0.153011\n",
            "[83]\tvalid_0's binary_logloss: 0.154807\n",
            "[84]\tvalid_0's binary_logloss: 0.156501\n",
            "[85]\tvalid_0's binary_logloss: 0.158586\n",
            "[86]\tvalid_0's binary_logloss: 0.159819\n",
            "[87]\tvalid_0's binary_logloss: 0.161745\n",
            "[88]\tvalid_0's binary_logloss: 0.162829\n",
            "[89]\tvalid_0's binary_logloss: 0.159142\n",
            "[90]\tvalid_0's binary_logloss: 0.156765\n",
            "[91]\tvalid_0's binary_logloss: 0.158625\n",
            "[92]\tvalid_0's binary_logloss: 0.156832\n",
            "[93]\tvalid_0's binary_logloss: 0.154616\n",
            "[94]\tvalid_0's binary_logloss: 0.154263\n",
            "[95]\tvalid_0's binary_logloss: 0.157156\n",
            "[96]\tvalid_0's binary_logloss: 0.158617\n",
            "[97]\tvalid_0's binary_logloss: 0.157495\n",
            "[98]\tvalid_0's binary_logloss: 0.159413\n",
            "[99]\tvalid_0's binary_logloss: 0.15847\n",
            "[100]\tvalid_0's binary_logloss: 0.160746\n",
            "[101]\tvalid_0's binary_logloss: 0.16217\n",
            "[102]\tvalid_0's binary_logloss: 0.165293\n",
            "[103]\tvalid_0's binary_logloss: 0.164749\n",
            "[104]\tvalid_0's binary_logloss: 0.167097\n",
            "[105]\tvalid_0's binary_logloss: 0.167697\n",
            "[106]\tvalid_0's binary_logloss: 0.169462\n",
            "[107]\tvalid_0's binary_logloss: 0.169947\n",
            "[108]\tvalid_0's binary_logloss: 0.171\n",
            "[109]\tvalid_0's binary_logloss: 0.16907\n",
            "[110]\tvalid_0's binary_logloss: 0.169521\n",
            "[111]\tvalid_0's binary_logloss: 0.167719\n",
            "[112]\tvalid_0's binary_logloss: 0.166648\n",
            "[113]\tvalid_0's binary_logloss: 0.169053\n",
            "[114]\tvalid_0's binary_logloss: 0.169613\n",
            "[115]\tvalid_0's binary_logloss: 0.170059\n",
            "[116]\tvalid_0's binary_logloss: 0.1723\n",
            "[117]\tvalid_0's binary_logloss: 0.174733\n",
            "[118]\tvalid_0's binary_logloss: 0.173526\n",
            "[119]\tvalid_0's binary_logloss: 0.1751\n",
            "[120]\tvalid_0's binary_logloss: 0.178254\n",
            "[121]\tvalid_0's binary_logloss: 0.182968\n",
            "[122]\tvalid_0's binary_logloss: 0.179017\n",
            "[123]\tvalid_0's binary_logloss: 0.178326\n",
            "[124]\tvalid_0's binary_logloss: 0.177149\n",
            "[125]\tvalid_0's binary_logloss: 0.179171\n",
            "[126]\tvalid_0's binary_logloss: 0.180948\n",
            "[127]\tvalid_0's binary_logloss: 0.183861\n",
            "[128]\tvalid_0's binary_logloss: 0.187579\n",
            "[129]\tvalid_0's binary_logloss: 0.188122\n",
            "[130]\tvalid_0's binary_logloss: 0.1857\n",
            "[131]\tvalid_0's binary_logloss: 0.187442\n",
            "[132]\tvalid_0's binary_logloss: 0.188578\n",
            "[133]\tvalid_0's binary_logloss: 0.189729\n",
            "[134]\tvalid_0's binary_logloss: 0.187313\n",
            "[135]\tvalid_0's binary_logloss: 0.189279\n",
            "[136]\tvalid_0's binary_logloss: 0.191068\n",
            "[137]\tvalid_0's binary_logloss: 0.192414\n",
            "[138]\tvalid_0's binary_logloss: 0.191255\n",
            "[139]\tvalid_0's binary_logloss: 0.193453\n",
            "[140]\tvalid_0's binary_logloss: 0.196969\n",
            "[141]\tvalid_0's binary_logloss: 0.196378\n",
            "[142]\tvalid_0's binary_logloss: 0.196367\n",
            "[143]\tvalid_0's binary_logloss: 0.19869\n",
            "[144]\tvalid_0's binary_logloss: 0.200352\n",
            "[145]\tvalid_0's binary_logloss: 0.19712\n"
          ]
        }
      ]
    },
    {
      "cell_type": "code",
      "source": [
        "get_clf_eval(y_test, preds, pred_proba)"
      ],
      "metadata": {
        "colab": {
          "base_uri": "https://localhost:8080/"
        },
        "id": "PChSas3mgjys",
        "outputId": "4028a87f-94e0-43e4-b95a-8c0d9b9429a7"
      },
      "execution_count": 20,
      "outputs": [
        {
          "output_type": "stream",
          "name": "stdout",
          "text": [
            "오차 행렬\n",
            "[[33  4]\n",
            " [ 1 76]]\n",
            "정확도: 0.9561, 정밀도: 0.9500, 재현율: 0.9870,  F1: 0.9682, AUC:0.9905\n"
          ]
        }
      ]
    },
    {
      "cell_type": "code",
      "source": [
        "# plot_importance()를 이용해 피처 중요도 시각화\n",
        "from lightgbm import plot_importance\n",
        "import matplotlib.pyplot as plt\n",
        "%matplotlib inline\n",
        "\n",
        "fig, ax = plt.subplots(figsize=(10, 12))\n",
        "plot_importance(lgbm_wrapper, ax=ax)"
      ],
      "metadata": {
        "colab": {
          "base_uri": "https://localhost:8080/",
          "height": 1000
        },
        "id": "HuzrMn7ngl6L",
        "outputId": "43509025-0623-44e7-ff7e-9ca516ce183e"
      },
      "execution_count": 21,
      "outputs": [
        {
          "output_type": "execute_result",
          "data": {
            "text/plain": [
              "<Axes: title={'center': 'Feature importance'}, xlabel='Feature importance', ylabel='Features'>"
            ]
          },
          "metadata": {},
          "execution_count": 21
        },
        {
          "output_type": "display_data",
          "data": {
            "text/plain": [
              "<Figure size 1000x1200 with 1 Axes>"
            ],
            "image/png": "[encoded data removed]"
          },
          "metadata": {}
        }
      ]
    },
    {
      "cell_type": "markdown",
      "source": [
        "## **10. 스태킹 앙상블**\n",
        "\n",
        "**스태킹(Stacking)**\n",
        "\n",
        "- 개별적인 여러 알고리즘으로 예측한 데이터를 기반으로 다시 예측 수행\n",
        "\n",
        "-  개별 알고리즘의 예측 결과 데이터 세트를 최종적인 메타 데이터 세트로 만들어 별도의 ML 알고리즘으로 최종 학습을 수행하고 테스트 데이터를 기반으로 다시 최종 예측 수행하는 방식(메타 모델)\n",
        "\n",
        "\n",
        "<스태킹(Stacking) 특징>\n",
        "* 개별적인 기반 모델 + 최종 메타 모델 필요\n",
        "\n",
        "* 여러 개별 모델의 예측 데이터를 각각 스태킹 형태로 결합해 최종 메타 모델의 학습용 피처 데이터 세트와 테스트용 피처 데이터 세트 만드는 것\n",
        "\n",
        "* 많은 개별 모델 필요. 일반적으로 성능이 비슷한 모델을 결합해 좀 더 나은 성능 향상 도출하기 위해 적용\n",
        "\n",
        "* 여러 개의 모델에 대한 예측값을 합한 후, 즉 스태킹 형태로 쌓은 뒤 이에 대한 예측을 다시 수행하는 것"
      ],
      "metadata": {
        "id": "F8LvP-QcgqOM"
      }
    },
    {
      "cell_type": "markdown",
      "source": [
        "(1) 데이터 분할"
      ],
      "metadata": {
        "id": "Pgp7RxGOhCzq"
      }
    },
    {
      "cell_type": "code",
      "source": [
        "import numpy as np\n",
        "\n",
        "from sklearn.neighbors import KNeighborsClassifier\n",
        "from sklearn.ensemble import RandomForestClassifier\n",
        "from sklearn.ensemble import AdaBoostClassifier\n",
        "from sklearn.tree import DecisionTreeClassifier\n",
        "from sklearn.linear_model import LogisticRegression\n",
        "\n",
        "from sklearn.datasets import load_breast_cancer\n",
        "from sklearn.model_selection import train_test_split\n",
        "from sklearn.metrics import accuracy_score\n",
        "\n",
        "cancer_data = load_breast_cancer()\n",
        "\n",
        "X_data = cancer_data.data\n",
        "y_label = cancer_data.target\n",
        "\n",
        "X_train, X_test, y_train, y_test = train_test_split(X_data, y_label, test_size=0.2, random_state=0)"
      ],
      "metadata": {
        "id": "n6vMBUowgnEw"
      },
      "execution_count": 22,
      "outputs": []
    },
    {
      "cell_type": "markdown",
      "source": [
        "(2) 스태킹에 사용될 머신러닝 알고리즘 클래스 생성"
      ],
      "metadata": {
        "id": "BfFfLyUmhHXm"
      }
    },
    {
      "cell_type": "code",
      "source": [
        "# 개별 ML 모델 생성\n",
        "knn_clf = KNeighborsClassifier(n_neighbors=4)\n",
        "rf_clf = RandomForestClassifier(n_estimators=100, random_state=0)\n",
        "dt_clf = DecisionTreeClassifier()\n",
        "ada_clf = AdaBoostClassifier(n_estimators=100)\n",
        "\n",
        "# 스태킹으로 만들어진 데이터 세트를 학습, 예측할 최종 모델\n",
        "lr_final = LogisticRegression(C=10)"
      ],
      "metadata": {
        "id": "EITTaXHOhG1d"
      },
      "execution_count": 23,
      "outputs": []
    },
    {
      "cell_type": "markdown",
      "source": [
        "(2) 개별 모델 학습"
      ],
      "metadata": {
        "id": "KK67oMk0hMVa"
      }
    },
    {
      "cell_type": "code",
      "source": [
        "# 개별 모델들을 학습.\n",
        "knn_clf.fit(X_train, y_train)\n",
        "rf_clf.fit(X_train, y_train)\n",
        "dt_clf.fit(X_train, y_train)\n",
        "ada_clf.fit(X_train, y_train)"
      ],
      "metadata": {
        "colab": {
          "base_uri": "https://localhost:8080/",
          "height": 75
        },
        "id": "V-xt-hyShLt8",
        "outputId": "5e0ee00e-4751-4676-b9a0-9112fd5a073c"
      },
      "execution_count": 24,
      "outputs": [
        {
          "output_type": "execute_result",
          "data": {
            "text/plain": [
              "AdaBoostClassifier(n_estimators=100)"
            ],
            "text/html": [
              "<style>#sk-container-id-1 {color: black;background-color: white;}#sk-container-id-1 pre{padding: 0;}#sk-container-id-1 div.sk-toggleable {background-color: white;}#sk-container-id-1 label.sk-toggleable__label {cursor: pointer;display: block;width: 100%;margin-bottom: 0;padding: 0.3em;box-sizing: border-box;text-align: center;}#sk-container-id-1 label.sk-toggleable__label-arrow:before {content: \"▸\";float: left;margin-right: 0.25em;color: #696969;}#sk-container-id-1 label.sk-toggleable__label-arrow:hover:before {color: black;}#sk-container-id-1 div.sk-estimator:hover label.sk-toggleable__label-arrow:before {color: black;}#sk-container-id-1 div.sk-toggleable__content {max-height: 0;max-width: 0;overflow: hidden;text-align: left;background-color: #f0f8ff;}#sk-container-id-1 div.sk-toggleable__content pre {margin: 0.2em;color: black;border-radius: 0.25em;background-color: #f0f8ff;}#sk-container-id-1 input.sk-toggleable__control:checked~div.sk-toggleable__content {max-height: 200px;max-width: 100%;overflow: auto;}#sk-container-id-1 input.sk-toggleable__control:checked~label.sk-toggleable__label-arrow:before {content: \"▾\";}#sk-container-id-1 div.sk-estimator input.sk-toggleable__control:checked~label.sk-toggleable__label {background-color: #d4ebff;}#sk-container-id-1 div.sk-label input.sk-toggleable__control:checked~label.sk-toggleable__label {background-color: #d4ebff;}#sk-container-id-1 input.sk-hidden--visually {border: 0;clip: rect(1px 1px 1px 1px);clip: rect(1px, 1px, 1px, 1px);height: 1px;margin: -1px;overflow: hidden;padding: 0;position: absolute;width: 1px;}#sk-container-id-1 div.sk-estimator {font-family: monospace;background-color: #f0f8ff;border: 1px dotted black;border-radius: 0.25em;box-sizing: border-box;margin-bottom: 0.5em;}#sk-container-id-1 div.sk-estimator:hover {background-color: #d4ebff;}#sk-container-id-1 div.sk-parallel-item::after {content: \"\";width: 100%;border-bottom: 1px solid gray;flex-grow: 1;}#sk-container-id-1 div.sk-label:hover label.sk-toggleable__label {background-color: #d4ebff;}#sk-container-id-1 div.sk-serial::before {content: \"\";position: absolute;border-left: 1px solid gray;box-sizing: border-box;top: 0;bottom: 0;left: 50%;z-index: 0;}#sk-container-id-1 div.sk-serial {display: flex;flex-direction: column;align-items: center;background-color: white;padding-right: 0.2em;padding-left: 0.2em;position: relative;}#sk-container-id-1 div.sk-item {position: relative;z-index: 1;}#sk-container-id-1 div.sk-parallel {display: flex;align-items: stretch;justify-content: center;background-color: white;position: relative;}#sk-container-id-1 div.sk-item::before, #sk-container-id-1 div.sk-parallel-item::before {content: \"\";position: absolute;border-left: 1px solid gray;box-sizing: border-box;top: 0;bottom: 0;left: 50%;z-index: -1;}#sk-container-id-1 div.sk-parallel-item {display: flex;flex-direction: column;z-index: 1;position: relative;background-color: white;}#sk-container-id-1 div.sk-parallel-item:first-child::after {align-self: flex-end;width: 50%;}#sk-container-id-1 div.sk-parallel-item:last-child::after {align-self: flex-start;width: 50%;}#sk-container-id-1 div.sk-parallel-item:only-child::after {width: 0;}#sk-container-id-1 div.sk-dashed-wrapped {border: 1px dashed gray;margin: 0 0.4em 0.5em 0.4em;box-sizing: border-box;padding-bottom: 0.4em;background-color: white;}#sk-container-id-1 div.sk-label label {font-family: monospace;font-weight: bold;display: inline-block;line-height: 1.2em;}#sk-container-id-1 div.sk-label-container {text-align: center;}#sk-container-id-1 div.sk-container {/* jupyter's `normalize.less` sets `[hidden] { display: none; }` but bootstrap.min.css set `[hidden] { display: none !important; }` so we also need the `!important` here to be able to override the default hidden behavior on the sphinx rendered scikit-learn.org. See: https://github.com/scikit-learn/scikit-learn/issues/21755 */display: inline-block !important;position: relative;}#sk-container-id-1 div.sk-text-repr-fallback {display: none;}</style><div id=\"sk-container-id-1\" class=\"sk-top-container\"><div class=\"sk-text-repr-fallback\"><pre>AdaBoostClassifier(n_estimators=100)</pre><b>In a Jupyter environment, please rerun this cell to show the HTML representation or trust the notebook. <br />On GitHub, the HTML representation is unable to render, please try loading this page with nbviewer.org.</b></div><div class=\"sk-container\" hidden><div class=\"sk-item\"><div class=\"sk-estimator sk-toggleable\"><input class=\"sk-toggleable__control sk-hidden--visually\" id=\"sk-estimator-id-1\" type=\"checkbox\" checked><label for=\"sk-estimator-id-1\" class=\"sk-toggleable__label sk-toggleable__label-arrow\">AdaBoostClassifier</label><div class=\"sk-toggleable__content\"><pre>AdaBoostClassifier(n_estimators=100)</pre></div></div></div></div></div>"
            ]
          },
          "metadata": {},
          "execution_count": 24
        }
      ]
    },
    {
      "cell_type": "markdown",
      "source": [
        "(3) 예측 정확도 구하기"
      ],
      "metadata": {
        "id": "SVso1AduhOwH"
      }
    },
    {
      "cell_type": "code",
      "source": [
        "# 학습된 개별 모델들이 각자 반환하는 예측 데이터 세트를 생성하고 개별 모델의 정확도 측정.\n",
        "knn_pred = knn_clf.predict(X_test)\n",
        "rf_pred = rf_clf.predict(X_test)\n",
        "dt_pred = dt_clf.predict(X_test)\n",
        "ada_pred = ada_clf.predict(X_test)\n",
        "\n",
        "print('KNN 정확도: {0:.4f}'.format(accuracy_score(y_test, knn_pred)))\n",
        "print('랜덤 포레스트 정확도: {0:.4f}'.format(accuracy_score(y_test, rf_pred)))\n",
        "print('결정 트리 정확도: {0:.4f}'.format(accuracy_score(y_test, dt_pred)))\n",
        "print('에이다부스트 정확도: {0:.4f}'.format(accuracy_score(y_test, ada_pred)))"
      ],
      "metadata": {
        "colab": {
          "base_uri": "https://localhost:8080/"
        },
        "id": "fcFFs2tuhORK",
        "outputId": "f08ff8b8-0b3c-41c2-bf6c-3d8a1f684feb"
      },
      "execution_count": 25,
      "outputs": [
        {
          "output_type": "stream",
          "name": "stdout",
          "text": [
            "KNN 정확도: 0.9211\n",
            "랜덤 포레스트 정확도: 0.9649\n",
            "결정 트리 정확도: 0.9035\n",
            "에이다부스트 정확도: 0.9561\n"
          ]
        }
      ]
    },
    {
      "cell_type": "markdown",
      "source": [
        "(4) 최종 메타 모델\n",
        "\n",
        "- 개별 알고리즘으로부터 예측된 예측값을 칼럼 레벨로 옆으로 붙여서 피처 값을 만들어, 최종 메타 모델인 로지스틱 회귀에서 학습 데이터로 다시 사용"
      ],
      "metadata": {
        "id": "h9G-8f0lhT-K"
      }
    },
    {
      "cell_type": "code",
      "source": [
        "pred = np.array([knn_pred, rf_pred, dt_pred, ada_pred])\n",
        "print(pred.shape)\n",
        "\n",
        "# transpose를 이용해 행과 열의 위치 교환. 칼럼 레벨로 각 알고리즘의 예측 결과를 피처로 만듦.\n",
        "pred = np.transpose(pred)\n",
        "print(pred.shape)"
      ],
      "metadata": {
        "colab": {
          "base_uri": "https://localhost:8080/"
        },
        "id": "bJtgA79bhRe0",
        "outputId": "8dba226e-6b79-4b5c-dd91-5f127826f0b6"
      },
      "execution_count": 26,
      "outputs": [
        {
          "output_type": "stream",
          "name": "stdout",
          "text": [
            "(4, 114)\n",
            "(114, 4)\n"
          ]
        }
      ]
    },
    {
      "cell_type": "markdown",
      "source": [
        "(5) 최종 메타 모델 학습, 예측 정확도"
      ],
      "metadata": {
        "id": "tDyUVCr3habC"
      }
    },
    {
      "cell_type": "code",
      "source": [
        "lr_final.fit(pred, y_test)\n",
        "final = lr_final.predict(pred)\n",
        "\n",
        "print('최종 메타 모델의 예측 정확도: {0:.4f}'.format(accuracy_score(y_test, final)))"
      ],
      "metadata": {
        "colab": {
          "base_uri": "https://localhost:8080/"
        },
        "id": "d-ph-tUehaC6",
        "outputId": "b4e641c1-2b7e-483f-df34-dc2d3fe907e1"
      },
      "execution_count": 27,
      "outputs": [
        {
          "output_type": "stream",
          "name": "stdout",
          "text": [
            "최종 메타 모델의 예측 정확도: 0.9737\n"
          ]
        }
      ]
    },
    {
      "cell_type": "markdown",
      "source": [
        "-> 정확도 향상"
      ],
      "metadata": {
        "id": "8qLWPQUMheWA"
      }
    },
    {
      "cell_type": "markdown",
      "source": [
        "### **1) CV 세트 기반의 스태킹**\n",
        "\n",
        "과적합을 개선하기 위해 최종 메타 모델을 위한 데이터 세트를 만들 때 교차 검증 기반으로 예측된 결과 데이터 세트 이용\n",
        "\n",
        "* 스텝 1 \n",
        "\n",
        "  * 각 모델별로 원본 학습/테스트 데이터를 예측한 결과 값을 기반으로 메타 모델을 위한 학습용/테스트용 데이터 생성\n",
        "\n",
        "* 스텝 2 \n",
        "  *  스텝 1에서 개별 모델들이 생성한 학습용/테스트용 데이터를 모두 스태킹 형태로 합쳐서 메타 모델이 학습/예측할 최종 학습용/테스트 데이터 세트 생성 \n",
        "  * 최종적으로 생성된 학습 데이터 세트와 원본 학습 데이터의 레이블 데이터 기반으로 학습 \n",
        "  * 최종적으로 생성된 테스트 데이터 세트 예측 \n",
        "  * 원본 테스트 데이터의 레이블 데이터 기반으로 평가\n",
        "\n",
        "* 스텝1의 첫 번째 반복(이를 3번(폴드개수) 반복)"
      ],
      "metadata": {
        "id": "CfvlPWPLhiRh"
      }
    },
    {
      "cell_type": "markdown",
      "source": [
        "(1) 스텝 1 : 개별 모델이 메타 모델을 위한 학습용 데이터와 테스트 데이터 생성"
      ],
      "metadata": {
        "id": "7SyiUnw1h9b6"
      }
    },
    {
      "cell_type": "code",
      "source": [
        "from sklearn.model_selection import KFold\n",
        "from sklearn.metrics import mean_absolute_error\n",
        "\n",
        "# 개별 기반 모델에서 최종 메타 모델이 사용할 학습 및 테스트용 데이터를 생성하기 위한 함수.\n",
        "def get_stacking_base_datasets(model, X_train_n, y_train_n, X_test_n, n_folds):\n",
        "  # 지정된 n_folds 값으로 KFold 생성.\n",
        "  kf = KFold(n_splits=n_folds, shuffle=False)\n",
        "  # 추후에 메타 모델이 학습할 학습 데이터 반환을 위한 넘파이 배열 초기화\n",
        "  train_fold_pred = np.zeros((X_train_n.shape[0],1))\n",
        "  test_pred = np.zeros((X_test_n.shape[0],n_folds))\n",
        "  print(model.__class__.__name__,' model 시작 ')\n",
        "\n",
        "  for folder_counter, (train_index, valid_index) in enumerate(kf.split(X_train_n)):\n",
        "    # 입력된 학습 데이터에서 기반 모델이 학습/예측할 폴드 데이터 세트 추출\n",
        "    print('\\t 폴드 세트: ', folder_counter, ' 시작 ')\n",
        "    X_tr = X_train_n[train_index]\n",
        "    y_tr = y_train_n[train_index]\n",
        "    X_te = X_train_n[valid_index]\n",
        "\n",
        "    # 폴드 세트 내부에서 다시 만들어진 학습 데이터로 기반 모델의 학습 수행.\n",
        "    model.fit(X_tr, y_tr)\n",
        "    # 폴드 세트 내부에서 다시 만들어진 검증 데이터로 기반 모델 예측 후 데이터 저장.\n",
        "    train_fold_pred[valid_index, :] = model.predict(X_te).reshape(-1,1)\n",
        "    # 입력된 원본 테스트 데이터를 폴드 세트내 학습된 기반 모델에서 예측 후 데이터 저장.\n",
        "    test_pred[:, folder_counter] = model.predict(X_test_n)\n",
        "\n",
        "  # 폴드 세트 내에서 원본 테스트 데이터를 예측한 데이터를 평균하여 테스트 데이터로 생성\n",
        "  test_pred_mean = np.mean(test_pred, axis=1).reshape(-1,1)\n",
        "\n",
        "  # train_fold_pred는 최종 메타 모델이 사용하는 학습 데이터, test_pred_mean은 테스트 데이터\n",
        "  return train_fold_pred, test_pred_mean"
      ],
      "metadata": {
        "id": "bTxtHApihd4X"
      },
      "execution_count": 28,
      "outputs": []
    },
    {
      "cell_type": "markdown",
      "source": [
        "* 각 모델별로 get_stacking_base_datasets()함수 호출해 각각 메타 모델이 사용할 학습용, 테스트용 데이터 세트 반환"
      ],
      "metadata": {
        "id": "OCSIOqJ5h09Z"
      }
    },
    {
      "cell_type": "code",
      "source": [
        "knn_train, knn_test = get_stacking_base_datasets(knn_clf, X_train, y_train, X_test, 7)\n",
        "rf_train, rf_test = get_stacking_base_datasets(rf_clf, X_train, y_train, X_test, 7)\n",
        "dt_train, dt_test = get_stacking_base_datasets(dt_clf, X_train, y_train, X_test, 7)\n",
        "ada_train, ada_test = get_stacking_base_datasets(ada_clf, X_train, y_train, X_test, 7)"
      ],
      "metadata": {
        "colab": {
          "base_uri": "https://localhost:8080/"
        },
        "id": "EUi24nLxhzW1",
        "outputId": "7beaae48-3b58-4910-ab6b-a619879d6920"
      },
      "execution_count": 29,
      "outputs": [
        {
          "output_type": "stream",
          "name": "stdout",
          "text": [
            "KNeighborsClassifier  model 시작 \n",
            "\t 폴드 세트:  0  시작 \n",
            "\t 폴드 세트:  1  시작 \n",
            "\t 폴드 세트:  2  시작 \n",
            "\t 폴드 세트:  3  시작 \n",
            "\t 폴드 세트:  4  시작 \n",
            "\t 폴드 세트:  5  시작 \n",
            "\t 폴드 세트:  6  시작 \n",
            "RandomForestClassifier  model 시작 \n",
            "\t 폴드 세트:  0  시작 \n",
            "\t 폴드 세트:  1  시작 \n",
            "\t 폴드 세트:  2  시작 \n",
            "\t 폴드 세트:  3  시작 \n",
            "\t 폴드 세트:  4  시작 \n",
            "\t 폴드 세트:  5  시작 \n",
            "\t 폴드 세트:  6  시작 \n",
            "DecisionTreeClassifier  model 시작 \n",
            "\t 폴드 세트:  0  시작 \n",
            "\t 폴드 세트:  1  시작 \n",
            "\t 폴드 세트:  2  시작 \n",
            "\t 폴드 세트:  3  시작 \n",
            "\t 폴드 세트:  4  시작 \n",
            "\t 폴드 세트:  5  시작 \n",
            "\t 폴드 세트:  6  시작 \n",
            "AdaBoostClassifier  model 시작 \n",
            "\t 폴드 세트:  0  시작 \n",
            "\t 폴드 세트:  1  시작 \n",
            "\t 폴드 세트:  2  시작 \n",
            "\t 폴드 세트:  3  시작 \n",
            "\t 폴드 세트:  4  시작 \n",
            "\t 폴드 세트:  5  시작 \n",
            "\t 폴드 세트:  6  시작 \n"
          ]
        }
      ]
    },
    {
      "cell_type": "markdown",
      "source": [
        "(2) 스텝 2 : 각 모델별 학습 데이터와 테스트 데이터 합치기(넘파이의 concatenate())"
      ],
      "metadata": {
        "id": "ziRFpbEYh6ff"
      }
    },
    {
      "cell_type": "code",
      "source": [
        "Stack_final_X_train = np.concatenate((knn_train, rf_train, dt_train, ada_train), axis=1)\n",
        "Stack_final_X_test = np.concatenate((knn_test, rf_test, dt_test, ada_test), axis=1)\n",
        "print('원본 학습 피처 데이터 Shape:',X_train.shape, '원본 테스트 피처 Shape:',X_test.shape)\n",
        "print('스태킹 학습 피처 데이터 Shape:',Stack_final_X_train.shape,\n",
        "      '스태킹 테스트 피어 데이터 Shape:',Stack_final_X_test.shape)"
      ],
      "metadata": {
        "colab": {
          "base_uri": "https://localhost:8080/"
        },
        "id": "iE-hk6KCh4ER",
        "outputId": "ac6c0da7-9b16-4680-92a0-309940fad435"
      },
      "execution_count": 30,
      "outputs": [
        {
          "output_type": "stream",
          "name": "stdout",
          "text": [
            "원본 학습 피처 데이터 Shape: (455, 30) 원본 테스트 피처 Shape: (114, 30)\n",
            "스태킹 학습 피처 데이터 Shape: (455, 4) 스태킹 테스트 피어 데이터 Shape: (114, 4)\n"
          ]
        }
      ]
    },
    {
      "cell_type": "markdown",
      "source": [
        " -> Stack_final_X_train : 메타 모델이 학습할 학습용 피처 데이터 세트\n",
        " \n",
        " -> Stack_final_X_test : 메타 모델이 예측할 테스트용 피어 데이터 세트"
      ],
      "metadata": {
        "id": "1OM69I2hiAuO"
      }
    },
    {
      "cell_type": "markdown",
      "source": [
        "(3) 정확도 측정\n",
        "\n",
        "* 최종 메타 모델인 로지스틱 회귀를 스태킹된 학습용 피처 데이터 세트와 원본 학습 레이블 데이터로 학습 \n",
        " \n",
        "* 스태킹된 테스트 데이터 세트로 예측 \n",
        "\n",
        "* 예측 결과를 원본 테스트 레이블 데이터와 비교해 정확도 측정"
      ],
      "metadata": {
        "id": "i6GjR-nLiHlV"
      }
    },
    {
      "cell_type": "code",
      "source": [
        "lr_final.fit(Stack_final_X_train, y_train)\n",
        "stack_final = lr_final.predict(Stack_final_X_test)\n",
        "\n",
        "print('최종 메타 모델의 예측 정확도: {0:.4f}'.format(accuracy_score(y_test, stack_final)))"
      ],
      "metadata": {
        "colab": {
          "base_uri": "https://localhost:8080/"
        },
        "id": "kajfovTCiEBE",
        "outputId": "85123e36-93b6-426e-9183-e21d50c87a5f"
      },
      "execution_count": 31,
      "outputs": [
        {
          "output_type": "stream",
          "name": "stdout",
          "text": [
            "최종 메타 모델의 예측 정확도: 0.9737\n"
          ]
        }
      ]
    },
    {
      "cell_type": "markdown",
      "source": [
        "## **11. 정리**\n",
        "\n",
        "(1) 앙상블 \n",
        "\n",
        "결정 트리 기반의 다수의 약한 학습기를 결합해 변동성을 줄여 예측 오류 줄이고 성능 개선\n",
        "\n",
        "(2) 배깅 \n",
        "학습 데이터를 중복 허용하면서 다수의 세트로 샘플링하여 이를 다수의 약한 학습기가 학습한 뒤 최종 결과 결합해 예측\n",
        "\n",
        "* 랜덤 포레스트 \n",
        "\n",
        "(3) 부스팅 \n",
        "학습기들이 순차적으로 학습 진행하면서 예측 틀린 데이터에 대해서는 가중치 부여해 다음번 학습기가 학습할 때 이전에 예측이 틀린 데이터에 대해서는 보다 높은 정확도로 예측할 수 있도록\n",
        "\n",
        "* GBM(Gradient Boosting Machine) \n",
        "* XGBoost와 LightGBM \n",
        "\n",
        "(4) 스태킹 \n",
        "\n",
        " 여러 개의 개별 모델들이 생성한 예측 데이터를 기반으로 최종 메타 모델이 학습할 별도의 학습 데이터 세트와 예측할 테스트 데이터 세트 재생성(스태킹 형태로 결합)"
      ],
      "metadata": {
        "id": "w9hMVJSGiQkz"
      }
    }
  ]
}